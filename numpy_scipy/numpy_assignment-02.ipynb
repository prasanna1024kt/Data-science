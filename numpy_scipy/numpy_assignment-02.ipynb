{
 "cells": [
  {
   "cell_type": "code",
   "execution_count": 1,
   "metadata": {},
   "outputs": [],
   "source": [
    "import numpy as np "
   ]
  },
  {
   "cell_type": "code",
   "execution_count": 2,
   "metadata": {},
   "outputs": [],
   "source": [
    "country_list = np.array(['GBP','CHN','RUS','US','KOR','JAP','GER'])\n",
    "country_gold = np.array([29,38,24,46,13,7,11])\n",
    "country_silver = np.array([17,28,25,28,8,14,11])\n",
    "country_bronze = np.array([19,22,32,29,7,17,14])"
   ]
  },
  {
   "cell_type": "code",
   "execution_count": 3,
   "metadata": {},
   "outputs": [
    {
     "data": {
      "text/plain": [
       "'US'"
      ]
     },
     "execution_count": 3,
     "metadata": {},
     "output_type": "execute_result"
    }
   ],
   "source": [
    "# country with max gold \n",
    "\n",
    "max_gold_medals = country_gold.argmax()\n",
    "max_country_name = country_list[max_gold_medals]\n",
    "max_country_name"
   ]
  },
  {
   "cell_type": "code",
   "execution_count": 6,
   "metadata": {},
   "outputs": [
    {
     "data": {
      "text/plain": [
       "'JAP'"
      ]
     },
     "execution_count": 6,
     "metadata": {},
     "output_type": "execute_result"
    }
   ],
   "source": [
    "# country with min gold medal\n",
    "\n",
    "min_gold_medals = country_gold.argmin()\n",
    "min_country_name = country_list[min_gold_medals]\n",
    "min_country_name"
   ]
  },
  {
   "cell_type": "code",
   "execution_count": 7,
   "metadata": {},
   "outputs": [
    {
     "name": "stdout",
     "output_type": "stream",
     "text": [
      "country GBP has gold medal 29 and total medal wons is 65 \n",
      "country CHN has gold medal 38 and total medal wons is 88 \n",
      "country RUS has gold medal 24 and total medal wons is 81 \n",
      "country US has gold medal 46 and total medal wons is 103 \n",
      "country KOR has gold medal 13 and total medal wons is 28 \n",
      "country JAP has gold medal 7 and total medal wons is 38 \n",
      "country GER has gold medal 11 and total medal wons is 36 \n"
     ]
    }
   ],
   "source": [
    "# display country name , gold medals and sum of all medals per country wise \n",
    "\n",
    "for i in range(len(country_list)):\n",
    "    country_name = country_list[i]\n",
    "    gold_medal = country_gold[i]\n",
    "    total_medals = country_bronze[i]+country_gold[i]+country_silver[i]\n",
    "    \n",
    "    print(\"country %s has gold medal %s and total medal wons is %s \" %(country_name,gold_medal,total_medals))"
   ]
  },
  {
   "cell_type": "code",
   "execution_count": null,
   "metadata": {},
   "outputs": [],
   "source": []
  }
 ],
 "metadata": {
  "kernelspec": {
   "display_name": "Python 3",
   "language": "python",
   "name": "python3"
  },
  "language_info": {
   "codemirror_mode": {
    "name": "ipython",
    "version": 3
   },
   "file_extension": ".py",
   "mimetype": "text/x-python",
   "name": "python",
   "nbconvert_exporter": "python",
   "pygments_lexer": "ipython3",
   "version": "3.6.5"
  }
 },
 "nbformat": 4,
 "nbformat_minor": 2
}
