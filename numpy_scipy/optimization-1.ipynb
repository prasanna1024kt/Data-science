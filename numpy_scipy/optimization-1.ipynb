{
 "cells": [
  {
   "cell_type": "code",
   "execution_count": 39,
   "metadata": {},
   "outputs": [],
   "source": [
    "import numpy as np\n",
    "from scipy.optimize import minimize"
   ]
  },
  {
   "cell_type": "markdown",
   "metadata": {},
   "source": [
    "One example of an optimization problem from a benchmark test set is the Hock Schittkowski problem #71.\n",
    "\n",
    "\n",
    "min x1*x4*(x1+x2+x3)+x3 s.t x1x2x3x4>=25\n",
    "x1**2+x2**2+x3**2+x**2 =40\n",
    "1<=x1,x2,x3,x4<=5\n",
    "initial values of x1,x2,x3 and x4 are \n",
    "x0 = (1,5,5,1)\n",
    "\n",
    "\n",
    "This problem has a nonlinear objective that the optimizer attempts to minimize. The variable values at the optimal solution are subject to (s.t.) both equality (=40) and inequality (>25) constraints. The product of the four variables must be greater than 25 while the sum of squares of the variables must also equal 40. In addition, all variables must be between 1 and 5 and the initial guess is x1 = 1, x2 = 5, x3 = 5, and x4 = 1.\n"
   ]
  },
  {
   "cell_type": "code",
   "execution_count": 28,
   "metadata": {},
   "outputs": [],
   "source": [
    "def main_objective(x):\n",
    "    x1=x[0]\n",
    "    x2=x[1]\n",
    "    x3=x[2]\n",
    "    x4=x[3]\n",
    "    obj = x1*x4*(x1+x2+x3)+x3\n",
    "    print(obj)\n",
    "    return obj\n",
    "\n",
    "def constarant1(x):\n",
    "    x1=x[0]\n",
    "    x2=x[1]\n",
    "    x3=x[2]\n",
    "    x4=x[3]\n",
    "    return x1*x2*x3-25.0\n",
    "\n",
    "def constrant2(x):\n",
    "    \n",
    "    sum=40\n",
    "    \n",
    "    for i in range(4):\n",
    "        sum = sum - x[i]**2\n",
    "    return sum\n",
    "\n",
    "\n",
    "\n",
    "    "
   ]
  },
  {
   "cell_type": "code",
   "execution_count": 22,
   "metadata": {},
   "outputs": [],
   "source": [
    "val= [1,5,5,1]"
   ]
  },
  {
   "cell_type": "code",
   "execution_count": 29,
   "metadata": {},
   "outputs": [
    {
     "name": "stdout",
     "output_type": "stream",
     "text": [
      "16\n",
      "16\n"
     ]
    }
   ],
   "source": [
    "print(main_objective(val))"
   ]
  },
  {
   "cell_type": "code",
   "execution_count": 33,
   "metadata": {},
   "outputs": [],
   "source": [
    "bnd = (1.0,5.0)\n",
    "bnds = (bnd,bnd,bnd,bnd)\n",
    "\n",
    "con1 = {'type': 'ineq','fun': constarant1}\n",
    "con2 = {'type': 'eq',  'fun': constrant2}\n",
    "\n",
    "const = [con1,con2]\n"
   ]
  },
  {
   "cell_type": "code",
   "execution_count": 36,
   "metadata": {},
   "outputs": [
    {
     "name": "stdout",
     "output_type": "stream",
     "text": [
      "16.0\n",
      "16.0\n",
      "16.000000178813934\n",
      "16.00000001490116\n",
      "16.000000029802322\n",
      "16.000000163912773\n",
      "16.37500000000017\n",
      "16.37500000000017\n",
      "16.375000167638234\n",
      "16.375000018626622\n",
      "16.375000033527783\n",
      "16.375000186264685\n",
      "17.45703518647358\n",
      "17.45703518647358\n",
      "17.457035355056703\n",
      "17.457035206638526\n",
      "17.457035221539687\n",
      "17.45703538732\n",
      "17.520636185067552\n",
      "17.520636185067552\n",
      "17.520636353736016\n",
      "17.520636205433867\n",
      "17.520636220335028\n",
      "17.52063638776103\n",
      "17.525005651411394\n",
      "17.525005651411394\n",
      "17.5250058200813\n",
      "17.525005671777258\n",
      "17.52500568667842\n",
      "17.525005854102986\n",
      "17.52503206276372\n",
      "17.52503206276372\n",
      "17.525032231433663\n",
      "17.525032083129705\n",
      "17.525032098030866\n",
      "17.525032265456392\n",
      "     fun: 17.52503206276372\n",
      "     jac: array([11.3192482 ,  1.36673808,  2.36673808, 13.60247493])\n",
      " message: 'Optimization terminated successfully.'\n",
      "    nfev: 36\n",
      "     nit: 6\n",
      "    njev: 6\n",
      "  status: 0\n",
      " success: True\n",
      "       x: array([1.36673812, 4.66321478, 3.92255718, 1.        ])\n"
     ]
    }
   ],
   "source": [
    "sol = minimize(main_objective,val,method ='SLSQP', bounds = bnds ,constraints=const)\n",
    "print(sol)"
   ]
  },
  {
   "cell_type": "code",
   "execution_count": 38,
   "metadata": {},
   "outputs": [
    {
     "name": "stdout",
     "output_type": "stream",
     "text": [
      "Help on function fmin in module scipy.optimize.optimize:\n",
      "\n",
      "fmin(func, x0, args=(), xtol=0.0001, ftol=0.0001, maxiter=None, maxfun=None, full_output=0, disp=1, retall=0, callback=None, initial_simplex=None)\n",
      "    Minimize a function using the downhill simplex algorithm.\n",
      "    \n",
      "    This algorithm only uses function values, not derivatives or second\n",
      "    derivatives.\n",
      "    \n",
      "    Parameters\n",
      "    ----------\n",
      "    func : callable func(x,*args)\n",
      "        The objective function to be minimized.\n",
      "    x0 : ndarray\n",
      "        Initial guess.\n",
      "    args : tuple, optional\n",
      "        Extra arguments passed to func, i.e. ``f(x,*args)``.\n",
      "    xtol : float, optional\n",
      "        Absolute error in xopt between iterations that is acceptable for\n",
      "        convergence.\n",
      "    ftol : number, optional\n",
      "        Absolute error in func(xopt) between iterations that is acceptable for\n",
      "        convergence.\n",
      "    maxiter : int, optional\n",
      "        Maximum number of iterations to perform.\n",
      "    maxfun : number, optional\n",
      "        Maximum number of function evaluations to make.\n",
      "    full_output : bool, optional\n",
      "        Set to True if fopt and warnflag outputs are desired.\n",
      "    disp : bool, optional\n",
      "        Set to True to print convergence messages.\n",
      "    retall : bool, optional\n",
      "        Set to True to return list of solutions at each iteration.\n",
      "    callback : callable, optional\n",
      "        Called after each iteration, as callback(xk), where xk is the\n",
      "        current parameter vector.\n",
      "    initial_simplex : array_like of shape (N + 1, N), optional\n",
      "        Initial simplex. If given, overrides `x0`.\n",
      "        ``initial_simplex[j,:]`` should contain the coordinates of\n",
      "        the j-th vertex of the ``N+1`` vertices in the simplex, where\n",
      "        ``N`` is the dimension.\n",
      "    \n",
      "    Returns\n",
      "    -------\n",
      "    xopt : ndarray\n",
      "        Parameter that minimizes function.\n",
      "    fopt : float\n",
      "        Value of function at minimum: ``fopt = func(xopt)``.\n",
      "    iter : int\n",
      "        Number of iterations performed.\n",
      "    funcalls : int\n",
      "        Number of function calls made.\n",
      "    warnflag : int\n",
      "        1 : Maximum number of function evaluations made.\n",
      "        2 : Maximum number of iterations reached.\n",
      "    allvecs : list\n",
      "        Solution at each iteration.\n",
      "    \n",
      "    See also\n",
      "    --------\n",
      "    minimize: Interface to minimization algorithms for multivariate\n",
      "        functions. See the 'Nelder-Mead' `method` in particular.\n",
      "    \n",
      "    Notes\n",
      "    -----\n",
      "    Uses a Nelder-Mead simplex algorithm to find the minimum of function of\n",
      "    one or more variables.\n",
      "    \n",
      "    This algorithm has a long history of successful use in applications.\n",
      "    But it will usually be slower than an algorithm that uses first or\n",
      "    second derivative information. In practice it can have poor\n",
      "    performance in high-dimensional problems and is not robust to\n",
      "    minimizing complicated functions. Additionally, there currently is no\n",
      "    complete theory describing when the algorithm will successfully\n",
      "    converge to the minimum, or how fast it will if it does. Both the ftol and\n",
      "    xtol criteria must be met for convergence.\n",
      "    \n",
      "    Examples\n",
      "    --------\n",
      "    >>> def f(x):\n",
      "    ...     return x**2\n",
      "    \n",
      "    >>> from scipy import optimize\n",
      "    \n",
      "    >>> minimum = optimize.fmin(f, 1)\n",
      "    Optimization terminated successfully.\n",
      "             Current function value: 0.000000\n",
      "             Iterations: 17\n",
      "             Function evaluations: 34\n",
      "    >>> minimum[0]\n",
      "    -8.8817841970012523e-16\n",
      "    \n",
      "    References\n",
      "    ----------\n",
      "    .. [1] Nelder, J.A. and Mead, R. (1965), \"A simplex method for function\n",
      "           minimization\", The Computer Journal, 7, pp. 308-313\n",
      "    \n",
      "    .. [2] Wright, M.H. (1996), \"Direct Search Methods: Once Scorned, Now\n",
      "           Respectable\", in Numerical Analysis 1995, Proceedings of the\n",
      "           1995 Dundee Biennial Conference in Numerical Analysis, D.F.\n",
      "           Griffiths and G.A. Watson (Eds.), Addison Wesley Longman,\n",
      "           Harlow, UK, pp. 191-208.\n",
      "\n"
     ]
    }
   ],
   "source": [
    "import scipy.optimize as opt \n",
    "help(opt.fmin)"
   ]
  },
  {
   "cell_type": "code",
   "execution_count": 47,
   "metadata": {},
   "outputs": [],
   "source": [
    "object1 = np.poly1d([4.6,5.7,8])"
   ]
  },
  {
   "cell_type": "code",
   "execution_count": 48,
   "metadata": {},
   "outputs": [
    {
     "name": "stdout",
     "output_type": "stream",
     "text": [
      "     2\n",
      "4.6 x + 5.7 x + 8\n"
     ]
    }
   ],
   "source": [
    "print(object1)"
   ]
  },
  {
   "cell_type": "code",
   "execution_count": 49,
   "metadata": {},
   "outputs": [
    {
     "name": "stdout",
     "output_type": "stream",
     "text": [
      "Optimization terminated successfully.\n",
      "         Current function value: 6.234239\n",
      "         Iterations: 19\n",
      "         Function evaluations: 38\n"
     ]
    }
   ],
   "source": [
    "from scipy.optimize import fmin\n",
    "\n",
    "x = fmin(object1,[3])"
   ]
  },
  {
   "cell_type": "code",
   "execution_count": 51,
   "metadata": {},
   "outputs": [
    {
     "name": "stdout",
     "output_type": "stream",
     "text": [
      "solved x=[-0.61955566]\n"
     ]
    }
   ],
   "source": [
    "print(\"solved x={}\".format(x))"
   ]
  },
  {
   "cell_type": "code",
   "execution_count": null,
   "metadata": {},
   "outputs": [],
   "source": []
  }
 ],
 "metadata": {
  "kernelspec": {
   "display_name": "Python 3",
   "language": "python",
   "name": "python3"
  },
  "language_info": {
   "codemirror_mode": {
    "name": "ipython",
    "version": 3
   },
   "file_extension": ".py",
   "mimetype": "text/x-python",
   "name": "python",
   "nbconvert_exporter": "python",
   "pygments_lexer": "ipython3",
   "version": "3.6.5"
  }
 },
 "nbformat": 4,
 "nbformat_minor": 2
}
