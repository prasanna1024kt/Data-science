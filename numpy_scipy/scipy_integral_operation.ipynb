{
 "cells": [
  {
   "cell_type": "code",
   "execution_count": 4,
   "metadata": {},
   "outputs": [],
   "source": [
    "import numpy as np"
   ]
  },
  {
   "cell_type": "code",
   "execution_count": 1,
   "metadata": {},
   "outputs": [],
   "source": [
    "import scipy as sp\n"
   ]
  },
  {
   "cell_type": "code",
   "execution_count": 2,
   "metadata": {},
   "outputs": [
    {
     "name": "stdout",
     "output_type": "stream",
     "text": [
      "<function <lambda> at 0x10d0fcd08>\n",
      "(0.7468241328124271, 8.291413475940725e-15)\n"
     ]
    }
   ],
   "source": [
    "#Quad function is the workhorse for the simple integratio function , Numeric function sometime called as \n",
    "#Quadrature,for single integral function with fixed variable a,b . \n",
    "# Gaussian function f(x) = exp -x2 exp= exponential will perfoem as below in scipy \n",
    "from numpy import exp\n",
    "from scipy.integrate import quad\n",
    "\n",
    "func = lambda x : exp(-x**2)\n",
    "print(func)\n",
    "\n",
    "inte = quad(func,0,1)\n",
    "print(inte)\n",
    "#The quad function returns the two values, in which the first number is the value of integral \n",
    "#and the second value is the estimate of the absolute error in the value of integral."
   ]
  },
  {
   "cell_type": "code",
   "execution_count": 5,
   "metadata": {},
   "outputs": [
    {
     "name": "stdout",
     "output_type": "stream",
     "text": [
      "(2.0, 2.220446049250313e-14)\n"
     ]
    }
   ],
   "source": [
    "def f1(x):\n",
    "    return np.array(x)\n",
    "\n",
    "inte1 = quad(f1,0,2)\n",
    "print(inte1)\n"
   ]
  },
  {
   "cell_type": "code",
   "execution_count": 15,
   "metadata": {},
   "outputs": [
    {
     "name": "stdout",
     "output_type": "stream",
     "text": [
      "(0.6666666666666667, 7.401486830834377e-15)\n"
     ]
    }
   ],
   "source": [
    "#Double Integrals\n",
    "\n",
    "#scipy.integrate.dblquad(func, a, b, gfun, hfun).\n",
    "\n",
    "#Where, func is the name of the function to be integrated, ‘a’ and ‘b’ are the lower and upper limits of the x variable, respectively, \n",
    "#while gfun and hfun are the names of the functions that define the lower and upper limits of the y variable.\n",
    "\n",
    "#Compute the double integral of xy**2 over the box x ranging from 0 to 2 and y ranging from 0 to 1.\n",
    "\n",
    "from scipy.integrate import dblquad \n",
    "\n",
    "\n",
    "func = lambda y,x : x*y**2\n",
    "\n",
    "double_integrat = dblquad(func,0,2,lambda x: 0, lambda x : 1)\n",
    "\n",
    "print(double_integrat)"
   ]
  },
  {
   "cell_type": "code",
   "execution_count": 18,
   "metadata": {},
   "outputs": [
    {
     "name": "stdout",
     "output_type": "stream",
     "text": [
      "(0.5, 1.7092350012594845e-14)\n"
     ]
    }
   ],
   "source": [
    "#example 2 double integration \n",
    "\n",
    "#Compute the double integral of 16xy over the box x ranging from 0 to 1/2 and y ranging from 0 to sqrt 1-4y**2.\n",
    "from math import sqrt\n",
    "func1 = lambda x , y : 16*x*y\n",
    "double_integrat1 = dblquad(func1,0,0.5,lambda x:0,lambda y: sqrt(1-4*y**2))\n",
    "\n",
    "print(double_integrat1)"
   ]
  },
  {
   "cell_type": "code",
   "execution_count": 6,
   "metadata": {},
   "outputs": [],
   "source": [
    "from scipy.optimize import minimize"
   ]
  },
  {
   "cell_type": "code",
   "execution_count": null,
   "metadata": {},
   "outputs": [],
   "source": []
  }
 ],
 "metadata": {
  "kernelspec": {
   "display_name": "Python 3",
   "language": "python",
   "name": "python3"
  },
  "language_info": {
   "codemirror_mode": {
    "name": "ipython",
    "version": 3
   },
   "file_extension": ".py",
   "mimetype": "text/x-python",
   "name": "python",
   "nbconvert_exporter": "python",
   "pygments_lexer": "ipython3",
   "version": "3.7.0"
  }
 },
 "nbformat": 4,
 "nbformat_minor": 2
}
