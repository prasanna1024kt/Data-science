{
 "cells": [
  {
   "cell_type": "markdown",
   "metadata": {},
   "source": [
    "####Evaluate the dataset containing the GDP of countries  "
   ]
  },
  {
   "cell_type": "markdown",
   "metadata": {},
   "source": [
    "####Reading the data in country data set "
   ]
  },
  {
   "cell_type": "code",
   "execution_count": 4,
   "metadata": {},
   "outputs": [],
   "source": [
    "import numpy as np\n",
    "\n",
    "country = np.array(['Algeria','Angola','Argentina','Australia','Austria','Bahamas','Bangladesh','Belarus','Belgium','Bhutan','Brazil','Bulgaria','Cambodia','Cameroon','Chile','China','Colombia','Cyprus','Denmark','El Salvador','Estonia','Ethiopia','Fiji','Finland','France','Georgia','Ghana','Grenada','Guinea','Haiti','Honduras','Hungary','India','Indonesia','Ireland','Italy','Japan','Kenya', 'South Korea','Liberia','Malaysia','Mexico', 'Morocco','Nepal','New Zealand','Norway','Pakistan', 'Peru','Qatar','Russia','Singapore','South Africa','Spain','Sweden','Switzerland','Thailand', 'United Arab Emirates','United Kingdom','United States','Uruguay','Venezuela','Vietnam','Zimbabwe'\n",
    "                   ])\n",
    "\n",
    "country_gdp = np.array([2255.225482,629.9553062,11601.63022,25306.82494,27266.40335,19466.99052,588.3691778,2890.345675,24733.62696,1445.760002,4803.398244,2618.876037,590.4521124,665.7982328,7122.938458,2639.54156,3362.4656,15378.16704,30860.12808,2579.115607,6525.541272,229.6769525,2242.689259,27570.4852,23016.84778,1334.646773,402.6953275,6047.200797,394.1156638,385.5793827,1414.072488,5745.981529,837.7464011,1206.991065,27715.52837,18937.24998,39578.07441,478.2194906,16684.21278,279.2204061,5345.213415,6288.25324,1908.304416,274.8728621,14646.42094,40034.85063,672.1547506,3359.517402,36152.66676,3054.727742,33529.83052,3825.093781,15428.32098,33630.24604,39170.41371,2699.123242,21058.43643,28272.40661,37691.02733,9581.05659,5671.912202,757.4009286,347.7456605]\n",
    "                       )"
   ]
  },
  {
   "cell_type": "code",
   "execution_count": 5,
   "metadata": {},
   "outputs": [
    {
     "data": {
      "text/plain": [
       "array(['Algeria', 'Angola', 'Argentina', 'Australia', 'Austria',\n",
       "       'Bahamas', 'Bangladesh', 'Belarus', 'Belgium', 'Bhutan', 'Brazil',\n",
       "       'Bulgaria', 'Cambodia', 'Cameroon', 'Chile', 'China', 'Colombia',\n",
       "       'Cyprus', 'Denmark', 'El Salvador', 'Estonia', 'Ethiopia', 'Fiji',\n",
       "       'Finland', 'France', 'Georgia', 'Ghana', 'Grenada', 'Guinea',\n",
       "       'Haiti', 'Honduras', 'Hungary', 'India', 'Indonesia', 'Ireland',\n",
       "       'Italy', 'Japan', 'Kenya', 'South Korea', 'Liberia', 'Malaysia',\n",
       "       'Mexico', 'Morocco', 'Nepal', 'New Zealand', 'Norway', 'Pakistan',\n",
       "       'Peru', 'Qatar', 'Russia', 'Singapore', 'South Africa', 'Spain',\n",
       "       'Sweden', 'Switzerland', 'Thailand', 'United Arab Emirates',\n",
       "       'United Kingdom', 'United States', 'Uruguay', 'Venezuela',\n",
       "       'Vietnam', 'Zimbabwe'], dtype='<U20')"
      ]
     },
     "execution_count": 5,
     "metadata": {},
     "output_type": "execute_result"
    }
   ],
   "source": [
    "country"
   ]
  },
  {
   "cell_type": "code",
   "execution_count": 6,
   "metadata": {},
   "outputs": [
    {
     "data": {
      "text/plain": [
       "array([ 2255.225482 ,   629.9553062, 11601.63022  , 25306.82494  ,\n",
       "       27266.40335  , 19466.99052  ,   588.3691778,  2890.345675 ,\n",
       "       24733.62696  ,  1445.760002 ,  4803.398244 ,  2618.876037 ,\n",
       "         590.4521124,   665.7982328,  7122.938458 ,  2639.54156  ,\n",
       "        3362.4656   , 15378.16704  , 30860.12808  ,  2579.115607 ,\n",
       "        6525.541272 ,   229.6769525,  2242.689259 , 27570.4852   ,\n",
       "       23016.84778  ,  1334.646773 ,   402.6953275,  6047.200797 ,\n",
       "         394.1156638,   385.5793827,  1414.072488 ,  5745.981529 ,\n",
       "         837.7464011,  1206.991065 , 27715.52837  , 18937.24998  ,\n",
       "       39578.07441  ,   478.2194906, 16684.21278  ,   279.2204061,\n",
       "        5345.213415 ,  6288.25324  ,  1908.304416 ,   274.8728621,\n",
       "       14646.42094  , 40034.85063  ,   672.1547506,  3359.517402 ,\n",
       "       36152.66676  ,  3054.727742 , 33529.83052  ,  3825.093781 ,\n",
       "       15428.32098  , 33630.24604  , 39170.41371  ,  2699.123242 ,\n",
       "       21058.43643  , 28272.40661  , 37691.02733  ,  9581.05659  ,\n",
       "        5671.912202 ,   757.4009286,   347.7456605])"
      ]
     },
     "execution_count": 6,
     "metadata": {},
     "output_type": "execute_result"
    }
   ],
   "source": [
    "country_gdp"
   ]
  },
  {
   "cell_type": "code",
   "execution_count": 18,
   "metadata": {},
   "outputs": [
    {
     "data": {
      "text/plain": [
       "'Norway'"
      ]
     },
     "execution_count": 18,
     "metadata": {},
     "output_type": "execute_result"
    }
   ],
   "source": [
    "#### checking the country max GDP\n",
    "\n",
    "max_gdp_with = country_gdp.argmax()\n",
    "\n",
    "country_with_max_gdp = country[max_gdp_with]\n",
    "country_with_max_gdp\n"
   ]
  },
  {
   "cell_type": "code",
   "execution_count": 14,
   "metadata": {},
   "outputs": [
    {
     "data": {
      "text/plain": [
       "'Ethiopia'"
      ]
     },
     "execution_count": 14,
     "metadata": {},
     "output_type": "execute_result"
    }
   ],
   "source": [
    "#### the country with min gdp \n",
    "min_gdp =  country_gdp.argmin()\n",
    "country_with_min_gdp = country[min_gdp]\n",
    "country_with_min_gdp"
   ]
  },
  {
   "cell_type": "code",
   "execution_count": 20,
   "metadata": {},
   "outputs": [
    {
     "name": "stdout",
     "output_type": "stream",
     "text": [
      "country name Algeria\n",
      "country name Angola\n",
      "country name Argentina\n",
      "country name Australia\n",
      "country name Austria\n",
      "country name Bahamas\n",
      "country name Bangladesh\n",
      "country name Belarus\n",
      "country name Belgium\n",
      "country name Bhutan\n",
      "country name Brazil\n",
      "country name Bulgaria\n",
      "country name Cambodia\n",
      "country name Cameroon\n",
      "country name Chile\n",
      "country name China\n",
      "country name Colombia\n",
      "country name Cyprus\n",
      "country name Denmark\n",
      "country name El Salvador\n",
      "country name Estonia\n",
      "country name Ethiopia\n",
      "country name Fiji\n",
      "country name Finland\n",
      "country name France\n",
      "country name Georgia\n",
      "country name Ghana\n",
      "country name Grenada\n",
      "country name Guinea\n",
      "country name Haiti\n",
      "country name Honduras\n",
      "country name Hungary\n",
      "country name India\n",
      "country name Indonesia\n",
      "country name Ireland\n",
      "country name Italy\n",
      "country name Japan\n",
      "country name Kenya\n",
      "country name South Korea\n",
      "country name Liberia\n",
      "country name Malaysia\n",
      "country name Mexico\n",
      "country name Morocco\n",
      "country name Nepal\n",
      "country name New Zealand\n",
      "country name Norway\n",
      "country name Pakistan\n",
      "country name Peru\n",
      "country name Qatar\n",
      "country name Russia\n",
      "country name Singapore\n",
      "country name South Africa\n",
      "country name Spain\n",
      "country name Sweden\n",
      "country name Switzerland\n",
      "country name Thailand\n",
      "country name United Arab Emirates\n",
      "country name United Kingdom\n",
      "country name United States\n",
      "country name Uruguay\n",
      "country name Venezuela\n",
      "country name Vietnam\n",
      "country name Zimbabwe\n"
     ]
    }
   ],
   "source": [
    "# list of coutries \n",
    "\n",
    "for name in country:\n",
    "    print(\"country name %s\" %name)"
   ]
  },
  {
   "cell_type": "code",
   "execution_count": 21,
   "metadata": {},
   "outputs": [
    {
     "name": "stdout",
     "output_type": "stream",
     "text": [
      "country Algeria has gdp 2255.225482 value \n",
      "country Angola has gdp 629.9553062 value \n",
      "country Argentina has gdp 11601.63022 value \n",
      "country Australia has gdp 25306.82494 value \n",
      "country Austria has gdp 27266.40335 value \n",
      "country Bahamas has gdp 19466.99052 value \n",
      "country Bangladesh has gdp 588.3691778 value \n",
      "country Belarus has gdp 2890.345675 value \n",
      "country Belgium has gdp 24733.62696 value \n",
      "country Bhutan has gdp 1445.760002 value \n",
      "country Brazil has gdp 4803.398244 value \n",
      "country Bulgaria has gdp 2618.876037 value \n",
      "country Cambodia has gdp 590.4521124 value \n",
      "country Cameroon has gdp 665.7982328 value \n",
      "country Chile has gdp 7122.938458 value \n",
      "country China has gdp 2639.54156 value \n",
      "country Colombia has gdp 3362.4656 value \n",
      "country Cyprus has gdp 15378.16704 value \n",
      "country Denmark has gdp 30860.12808 value \n",
      "country El Salvador has gdp 2579.115607 value \n",
      "country Estonia has gdp 6525.541272 value \n",
      "country Ethiopia has gdp 229.6769525 value \n",
      "country Fiji has gdp 2242.689259 value \n",
      "country Finland has gdp 27570.4852 value \n",
      "country France has gdp 23016.84778 value \n",
      "country Georgia has gdp 1334.646773 value \n",
      "country Ghana has gdp 402.6953275 value \n",
      "country Grenada has gdp 6047.200797 value \n",
      "country Guinea has gdp 394.1156638 value \n",
      "country Haiti has gdp 385.5793827 value \n",
      "country Honduras has gdp 1414.072488 value \n",
      "country Hungary has gdp 5745.981529 value \n",
      "country India has gdp 837.7464011 value \n",
      "country Indonesia has gdp 1206.991065 value \n",
      "country Ireland has gdp 27715.52837 value \n",
      "country Italy has gdp 18937.24998 value \n",
      "country Japan has gdp 39578.07441 value \n",
      "country Kenya has gdp 478.2194906 value \n",
      "country South Korea has gdp 16684.21278 value \n",
      "country Liberia has gdp 279.2204061 value \n",
      "country Malaysia has gdp 5345.213415 value \n",
      "country Mexico has gdp 6288.25324 value \n",
      "country Morocco has gdp 1908.304416 value \n",
      "country Nepal has gdp 274.8728621 value \n",
      "country New Zealand has gdp 14646.42094 value \n",
      "country Norway has gdp 40034.85063 value \n",
      "country Pakistan has gdp 672.1547506 value \n",
      "country Peru has gdp 3359.517402 value \n",
      "country Qatar has gdp 36152.66676 value \n",
      "country Russia has gdp 3054.727742 value \n",
      "country Singapore has gdp 33529.83052 value \n",
      "country South Africa has gdp 3825.093781 value \n",
      "country Spain has gdp 15428.32098 value \n",
      "country Sweden has gdp 33630.24604 value \n",
      "country Switzerland has gdp 39170.41371 value \n",
      "country Thailand has gdp 2699.123242 value \n",
      "country United Arab Emirates has gdp 21058.43643 value \n",
      "country United Kingdom has gdp 28272.40661 value \n",
      "country United States has gdp 37691.02733 value \n",
      "country Uruguay has gdp 9581.05659 value \n",
      "country Venezuela has gdp 5671.912202 value \n",
      "country Vietnam has gdp 757.4009286 value \n",
      "country Zimbabwe has gdp 347.7456605 value \n"
     ]
    }
   ],
   "source": [
    "# printing the country with gdp \n",
    "\n",
    "for i in range(len(country)):\n",
    "    country_name = country[i]\n",
    "    gdp_of_country = country_gdp[i]\n",
    "    print(\"country %s has gdp %s value \"%(country_name,gdp_of_country))\n",
    "    "
   ]
  },
  {
   "cell_type": "code",
   "execution_count": 25,
   "metadata": {},
   "outputs": [
    {
     "name": "stdout",
     "output_type": "stream",
     "text": [
      "40034.85063\n",
      "229.6769525\n",
      "12743.828910617945\n",
      "11289.409271639683\n",
      "711232.7841133\n"
     ]
    }
   ],
   "source": [
    "print(country_gdp.max())\n",
    "print(country_gdp.min())\n",
    "print(country_gdp.std())\n",
    "print(country_gdp.mean())\n",
    "print(country_gdp.sum())"
   ]
  },
  {
   "cell_type": "code",
   "execution_count": null,
   "metadata": {},
   "outputs": [],
   "source": []
  }
 ],
 "metadata": {
  "kernelspec": {
   "display_name": "Python 3",
   "language": "python",
   "name": "python3"
  },
  "language_info": {
   "codemirror_mode": {
    "name": "ipython",
    "version": 3
   },
   "file_extension": ".py",
   "mimetype": "text/x-python",
   "name": "python",
   "nbconvert_exporter": "python",
   "pygments_lexer": "ipython3",
   "version": "3.6.5"
  }
 },
 "nbformat": 4,
 "nbformat_minor": 2
}
