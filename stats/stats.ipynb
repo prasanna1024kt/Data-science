{
 "cells": [
  {
   "cell_type": "code",
   "execution_count": 1,
   "metadata": {},
   "outputs": [],
   "source": [
    "from scipy.stats import norm\n",
    "import scipy.stats as st"
   ]
  },
  {
   "cell_type": "markdown",
   "metadata": {},
   "source": [
    "A stock market analyst wants to estimate the average return on a certain stock. A random sample of 15 days yields an average (annualized) return of Xbar=10.37% and a standard deviation of s=3.5%. Assuming a normal population of returns, give a 95% confidence interval for the average return on this stock."
   ]
  },
  {
   "cell_type": "code",
   "execution_count": 10,
   "metadata": {},
   "outputs": [
    {
     "name": "stdout",
     "output_type": "stream",
     "text": [
      "8.431764604523753 12.308235395476245\n",
      " average return of stock is 8.431764604523753 and 12.308235395476245 for the 95 CI \n"
     ]
    }
   ],
   "source": [
    "import math\n",
    "n=15\n",
    "xbar=10.37\n",
    "ssd=3.5\n",
    "t = st.t.ppf(0.025,n-1)\n",
    "mul = xbar + t * ssd/math.sqrt(n)\n",
    "mul1 = xbar - t * ssd/math.sqrt(n)\n",
    "print(mul,mul1)\n",
    "\n",
    "print(\" average return of stock is %s and %s for the 95 CI \" %(mul,mul1))"
   ]
  },
  {
   "cell_type": "markdown",
   "metadata": {},
   "source": [
    "An automatic bottling machine fills cola into 2 lt (2000 cm3) bottles. A consumer advocate wants to test the null hypothesis that the average amount filed by the machine into the bottle is at least 2,000 cm3. A random sample of 40 bottles coming out of the machine was selected and the exact content of the selected bottles are recorded. The sample mean was 1,999.6 cm3. The population standard deviation is known from the past experience to be 1.30 cm3.\n",
    "1. Test the null hypothesis at an alpha of 5%"
   ]
  },
  {
   "cell_type": "code",
   "execution_count": 13,
   "metadata": {},
   "outputs": [
    {
     "name": "stdout",
     "output_type": "stream",
     "text": [
      "0.025826347487875892\n"
     ]
    }
   ],
   "source": [
    "xbar = 1999.6\n",
    "n=40 \n",
    "ssd =1.30 \n",
    "h0=2000\n",
    "p=st.norm.cdf(xbar,h0,1.30/math.sqrt(40))\n",
    "print(p)\n",
    "#test alpah is 5% that means 0.05 but p value wa get around 0.025 hence advocate can fill compalint "
   ]
  },
  {
   "cell_type": "markdown",
   "metadata": {},
   "source": [
    "For a given Mean 494 and standard deviation = 100\n",
    "1. What is the probability that a randomly selected score is between 600 and its mean.\n",
    "2. What is the probability of obtaining a score more than 700.\n",
    "3. Score that is less than 550.\n",
    "4. Score between 300 and 600."
   ]
  },
  {
   "cell_type": "code",
   "execution_count": 2,
   "metadata": {},
   "outputs": [
    {
     "name": "stdout",
     "output_type": "stream",
     "text": [
      "0.8292378553956377\n",
      "0.3554277003360904\n",
      "0.9803007295906231\n",
      "0.7088403132116536\n"
     ]
    }
   ],
   "source": [
    "import scipy.stats as st \n",
    "mean=494\n",
    "sd=100\n",
    "#solution for 4 Score between 300 and 600.\n",
    "area300 = st.norm.cdf(300,494,100)\n",
    "area600 = st.norm.cdf(600,494,100)\n",
    "score_between=area600-area300\n",
    "print(score_between)\n",
    "\n",
    "#What is the probability that a randomly selected score is between 600 and its mean\n",
    "\n",
    "area_mean=st.norm.cdf(494,494,100)\n",
    "print(area600-area_mean)\n",
    "\n",
    "#What is the probability of obtaining a score more than 700\n",
    "area700=st.norm.cdf(700,494,100)\n",
    "print(area700)\n",
    "\n",
    "#Score that is less than 550.\n",
    "\n",
    "area549=st.norm.cdf(549,494,100)\n",
    "print(area549)"
   ]
  },
  {
   "cell_type": "markdown",
   "metadata": {},
   "source": [
    "Mercury makes a 2.4 lt V-6 engine, The Laser XRi, used in speedboats. The companies engineer believe\n",
    "that the engine delivers an average power of 220 horsepower and that the standard deviation of power\n",
    "delivered is 15 horsepower. A potential buyer intends to sample 100 engines(each engine to be run a\n",
    "single time). What is the probability that the sample mean will be less than 217 horsepower?\n",
    "\n",
    "Given from the above qn : \n",
    "population mean = 220\n",
    "population std. deviation  = 15 \n",
    "sample size =100\n",
    "\n",
    "need to know distribution sample mean here . So we need . to refer center limit theorem.\n",
    "IF sample size is adequate i.e, if sample size is more than 30-40 then sample size is adequate .So here we need . to apply central limit theorem II statement . If sample size is adequate then distribution of sample mean is normal irrespective of distribution .\n",
    "i) Sample mean is equal to population mean \n",
    "ii) Sample std. deviation  = population sample / sqrt(no. of sample) \n",
    "\n",
    "Hence Sample mean = 220 \n",
    "sample std. deviation = 15/sqrt(100) = 1.5\n",
    "We need to find out the sample mean less than 217 horsepower"
   ]
  },
  {
   "cell_type": "markdown",
   "metadata": {},
   "source": [
    "import scipy.stats as st "
   ]
  },
  {
   "cell_type": "code",
   "execution_count": 3,
   "metadata": {},
   "outputs": [
    {
     "name": "stdout",
     "output_type": "stream",
     "text": [
      "0.022750131948179195\n"
     ]
    }
   ],
   "source": [
    "import scipy.stats as st \n",
    "print(st.norm.cdf(217,220,1.5))"
   ]
  },
  {
   "cell_type": "markdown",
   "metadata": {},
   "source": [
    "Comcast, the computer services company, is planning to invest heavily in online television services. As part of the decision, the company wants to estimate the average no of online shows a family of four would watch per day. A random sample of n=100 families is obtained, and in this sample the average no of shows viewed per day is 6.5 and the population standard deviation is known to be 3.2. Construct a 95% confidence interval for the average no of online television shows watched by the entire population of families of four.\n",
    "\n",
    "xbar=6.5\n",
    "psd=3.2\n",
    "n=100\n",
    "Mean = ?\n",
    "Z = ? => to calculate Z we using the ppf function , Above prbem as 95% confidential interval it's reply in between the mean1 and mean2 . remaining 5% is on left and right side of mean 1 and mean 2 .  To calculate Z at the position of 2.5% (curve is symmetric).\n"
   ]
  },
  {
   "cell_type": "code",
   "execution_count": 11,
   "metadata": {},
   "outputs": [
    {
     "name": "stdout",
     "output_type": "stream",
     "text": [
      "Averege number of family of four will be between 5.872811524947182 and 7.127188475052818 with 95 of CI\n"
     ]
    }
   ],
   "source": [
    "import math\n",
    "xbar=6.5\n",
    "psd=3.2\n",
    "n=100\n",
    "z = st.norm.ppf(0.025)\n",
    "mean1 = xbar + z*psd/math.sqrt(n)\n",
    "mean2 = xbar - z*psd/math.sqrt(n)\n",
    "\n",
    "print(\"Averege number of family of four will be between %s and %s with 95 of CI\"%(mean1,mean2))"
   ]
  },
  {
   "cell_type": "code",
   "execution_count": 4,
   "metadata": {},
   "outputs": [
    {
     "data": {
      "text/html": [
       "<div>\n",
       "<style scoped>\n",
       "    .dataframe tbody tr th:only-of-type {\n",
       "        vertical-align: middle;\n",
       "    }\n",
       "\n",
       "    .dataframe tbody tr th {\n",
       "        vertical-align: top;\n",
       "    }\n",
       "\n",
       "    .dataframe thead th {\n",
       "        text-align: right;\n",
       "    }\n",
       "</style>\n",
       "<table border=\"1\" class=\"dataframe\">\n",
       "  <thead>\n",
       "    <tr style=\"text-align: right;\">\n",
       "      <th></th>\n",
       "      <th>ID</th>\n",
       "      <th>Gender</th>\n",
       "      <th>Race</th>\n",
       "      <th>SEB</th>\n",
       "      <th>School</th>\n",
       "      <th>Prog</th>\n",
       "      <th>Read</th>\n",
       "      <th>Write</th>\n",
       "      <th>Math1</th>\n",
       "      <th>Math2</th>\n",
       "      <th>SST</th>\n",
       "    </tr>\n",
       "  </thead>\n",
       "  <tbody>\n",
       "    <tr>\n",
       "      <th>0</th>\n",
       "      <td>70</td>\n",
       "      <td>0</td>\n",
       "      <td>4</td>\n",
       "      <td>1</td>\n",
       "      <td>1</td>\n",
       "      <td>1</td>\n",
       "      <td>57</td>\n",
       "      <td>52</td>\n",
       "      <td>41</td>\n",
       "      <td>47</td>\n",
       "      <td>57</td>\n",
       "    </tr>\n",
       "    <tr>\n",
       "      <th>1</th>\n",
       "      <td>121</td>\n",
       "      <td>1</td>\n",
       "      <td>4</td>\n",
       "      <td>2</td>\n",
       "      <td>1</td>\n",
       "      <td>3</td>\n",
       "      <td>68</td>\n",
       "      <td>59</td>\n",
       "      <td>53</td>\n",
       "      <td>63</td>\n",
       "      <td>61</td>\n",
       "    </tr>\n",
       "    <tr>\n",
       "      <th>2</th>\n",
       "      <td>86</td>\n",
       "      <td>0</td>\n",
       "      <td>4</td>\n",
       "      <td>3</td>\n",
       "      <td>1</td>\n",
       "      <td>1</td>\n",
       "      <td>44</td>\n",
       "      <td>33</td>\n",
       "      <td>54</td>\n",
       "      <td>58</td>\n",
       "      <td>31</td>\n",
       "    </tr>\n",
       "    <tr>\n",
       "      <th>3</th>\n",
       "      <td>141</td>\n",
       "      <td>0</td>\n",
       "      <td>4</td>\n",
       "      <td>3</td>\n",
       "      <td>1</td>\n",
       "      <td>3</td>\n",
       "      <td>63</td>\n",
       "      <td>44</td>\n",
       "      <td>47</td>\n",
       "      <td>53</td>\n",
       "      <td>56</td>\n",
       "    </tr>\n",
       "    <tr>\n",
       "      <th>4</th>\n",
       "      <td>172</td>\n",
       "      <td>0</td>\n",
       "      <td>4</td>\n",
       "      <td>2</td>\n",
       "      <td>1</td>\n",
       "      <td>2</td>\n",
       "      <td>47</td>\n",
       "      <td>52</td>\n",
       "      <td>57</td>\n",
       "      <td>53</td>\n",
       "      <td>61</td>\n",
       "    </tr>\n",
       "  </tbody>\n",
       "</table>\n",
       "</div>"
      ],
      "text/plain": [
       "    ID  Gender  Race  SEB  School  Prog  Read  Write  Math1  Math2  SST\n",
       "0   70       0     4    1       1     1    57     52     41     47   57\n",
       "1  121       1     4    2       1     3    68     59     53     63   61\n",
       "2   86       0     4    3       1     1    44     33     54     58   31\n",
       "3  141       0     4    3       1     3    63     44     47     53   56\n",
       "4  172       0     4    2       1     2    47     52     57     53   61"
      ]
     },
     "execution_count": 4,
     "metadata": {},
     "output_type": "execute_result"
    }
   ],
   "source": [
    "import pandas as pd \n",
    "\n",
    "hyp_test = pd.read_csv(\"/Users/pkumar5/Desktop/prasanna_kumar/simpli-learning/dataset/Lesson 8-9 Hypothesis Testing Ex 1.csv\")\n",
    "hyp_test.head(5)"
   ]
  },
  {
   "cell_type": "code",
   "execution_count": 18,
   "metadata": {},
   "outputs": [
    {
     "data": {
      "text/html": [
       "<div>\n",
       "<style scoped>\n",
       "    .dataframe tbody tr th:only-of-type {\n",
       "        vertical-align: middle;\n",
       "    }\n",
       "\n",
       "    .dataframe tbody tr th {\n",
       "        vertical-align: top;\n",
       "    }\n",
       "\n",
       "    .dataframe thead th {\n",
       "        text-align: right;\n",
       "    }\n",
       "</style>\n",
       "<table border=\"1\" class=\"dataframe\">\n",
       "  <thead>\n",
       "    <tr style=\"text-align: right;\">\n",
       "      <th></th>\n",
       "      <th>ID</th>\n",
       "      <th>Gender</th>\n",
       "      <th>Race</th>\n",
       "      <th>SEB</th>\n",
       "      <th>School</th>\n",
       "      <th>Prog</th>\n",
       "      <th>Read</th>\n",
       "      <th>Write</th>\n",
       "      <th>Math1</th>\n",
       "      <th>Math2</th>\n",
       "      <th>SST</th>\n",
       "    </tr>\n",
       "  </thead>\n",
       "  <tbody>\n",
       "    <tr>\n",
       "      <th>195</th>\n",
       "      <td>31</td>\n",
       "      <td>1</td>\n",
       "      <td>2</td>\n",
       "      <td>2</td>\n",
       "      <td>2</td>\n",
       "      <td>1</td>\n",
       "      <td>55</td>\n",
       "      <td>59</td>\n",
       "      <td>52</td>\n",
       "      <td>42</td>\n",
       "      <td>56</td>\n",
       "    </tr>\n",
       "    <tr>\n",
       "      <th>196</th>\n",
       "      <td>145</td>\n",
       "      <td>1</td>\n",
       "      <td>4</td>\n",
       "      <td>2</td>\n",
       "      <td>1</td>\n",
       "      <td>3</td>\n",
       "      <td>42</td>\n",
       "      <td>46</td>\n",
       "      <td>38</td>\n",
       "      <td>36</td>\n",
       "      <td>46</td>\n",
       "    </tr>\n",
       "    <tr>\n",
       "      <th>197</th>\n",
       "      <td>187</td>\n",
       "      <td>1</td>\n",
       "      <td>4</td>\n",
       "      <td>2</td>\n",
       "      <td>2</td>\n",
       "      <td>1</td>\n",
       "      <td>57</td>\n",
       "      <td>41</td>\n",
       "      <td>57</td>\n",
       "      <td>55</td>\n",
       "      <td>52</td>\n",
       "    </tr>\n",
       "    <tr>\n",
       "      <th>198</th>\n",
       "      <td>118</td>\n",
       "      <td>1</td>\n",
       "      <td>4</td>\n",
       "      <td>2</td>\n",
       "      <td>1</td>\n",
       "      <td>1</td>\n",
       "      <td>55</td>\n",
       "      <td>62</td>\n",
       "      <td>58</td>\n",
       "      <td>58</td>\n",
       "      <td>61</td>\n",
       "    </tr>\n",
       "    <tr>\n",
       "      <th>199</th>\n",
       "      <td>137</td>\n",
       "      <td>1</td>\n",
       "      <td>4</td>\n",
       "      <td>3</td>\n",
       "      <td>1</td>\n",
       "      <td>2</td>\n",
       "      <td>63</td>\n",
       "      <td>65</td>\n",
       "      <td>65</td>\n",
       "      <td>53</td>\n",
       "      <td>61</td>\n",
       "    </tr>\n",
       "  </tbody>\n",
       "</table>\n",
       "</div>"
      ],
      "text/plain": [
       "      ID  Gender  Race  SEB  School  Prog  Read  Write  Math1  Math2  SST\n",
       "195   31       1     2    2       2     1    55     59     52     42   56\n",
       "196  145       1     4    2       1     3    42     46     38     36   46\n",
       "197  187       1     4    2       2     1    57     41     57     55   52\n",
       "198  118       1     4    2       1     1    55     62     58     58   61\n",
       "199  137       1     4    3       1     2    63     65     65     53   61"
      ]
     },
     "execution_count": 18,
     "metadata": {},
     "output_type": "execute_result"
    }
   ],
   "source": [
    "hyp_test.tail()"
   ]
  },
  {
   "cell_type": "code",
   "execution_count": 19,
   "metadata": {},
   "outputs": [
    {
     "data": {
      "text/plain": [
       "Index(['ID', 'Gender', 'Race', 'SEB', 'School', 'Prog', 'Read', 'Write',\n",
       "       'Math1', 'Math2', 'SST'],\n",
       "      dtype='object')"
      ]
     },
     "execution_count": 19,
     "metadata": {},
     "output_type": "execute_result"
    }
   ],
   "source": [
    "hyp_test.columns"
   ]
  },
  {
   "cell_type": "code",
   "execution_count": 20,
   "metadata": {},
   "outputs": [
    {
     "data": {
      "text/plain": [
       "(200, 11)"
      ]
     },
     "execution_count": 20,
     "metadata": {},
     "output_type": "execute_result"
    }
   ],
   "source": [
    "hyp_test.shape"
   ]
  },
  {
   "cell_type": "code",
   "execution_count": 23,
   "metadata": {},
   "outputs": [
    {
     "data": {
      "text/plain": [
       "200"
      ]
     },
     "execution_count": 23,
     "metadata": {},
     "output_type": "execute_result"
    }
   ],
   "source": [
    "hyp_test.shape[0]"
   ]
  },
  {
   "cell_type": "code",
   "execution_count": 25,
   "metadata": {},
   "outputs": [
    {
     "name": "stdout",
     "output_type": "stream",
     "text": [
      "<class 'pandas.core.frame.DataFrame'>\n",
      "RangeIndex: 200 entries, 0 to 199\n",
      "Data columns (total 11 columns):\n",
      "ID        200 non-null int64\n",
      "Gender    200 non-null int64\n",
      "Race      200 non-null int64\n",
      "SEB       200 non-null int64\n",
      "School    200 non-null int64\n",
      "Prog      200 non-null int64\n",
      "Read      200 non-null int64\n",
      "Write     200 non-null int64\n",
      "Math1     200 non-null int64\n",
      "Math2     200 non-null int64\n",
      "SST       200 non-null int64\n",
      "dtypes: int64(11)\n",
      "memory usage: 17.3 KB\n"
     ]
    }
   ],
   "source": [
    "hyp_test.info()"
   ]
  },
  {
   "cell_type": "code",
   "execution_count": 27,
   "metadata": {},
   "outputs": [
    {
     "data": {
      "text/plain": [
       "ID        int64\n",
       "Gender    int64\n",
       "Race      int64\n",
       "SEB       int64\n",
       "School    int64\n",
       "Prog      int64\n",
       "Read      int64\n",
       "Write     int64\n",
       "Math1     int64\n",
       "Math2     int64\n",
       "SST       int64\n",
       "dtype: object"
      ]
     },
     "execution_count": 27,
     "metadata": {},
     "output_type": "execute_result"
    }
   ],
   "source": [
    "hyp_test.dtypes"
   ]
  },
  {
   "cell_type": "code",
   "execution_count": 40,
   "metadata": {},
   "outputs": [
    {
     "data": {
      "text/html": [
       "<div>\n",
       "<style scoped>\n",
       "    .dataframe tbody tr th:only-of-type {\n",
       "        vertical-align: middle;\n",
       "    }\n",
       "\n",
       "    .dataframe tbody tr th {\n",
       "        vertical-align: top;\n",
       "    }\n",
       "\n",
       "    .dataframe thead th {\n",
       "        text-align: right;\n",
       "    }\n",
       "</style>\n",
       "<table border=\"1\" class=\"dataframe\">\n",
       "  <thead>\n",
       "    <tr style=\"text-align: right;\">\n",
       "      <th></th>\n",
       "      <th>ID</th>\n",
       "      <th>Gender</th>\n",
       "    </tr>\n",
       "  </thead>\n",
       "  <tbody>\n",
       "    <tr>\n",
       "      <th>2</th>\n",
       "      <td>86</td>\n",
       "      <td>0</td>\n",
       "    </tr>\n",
       "    <tr>\n",
       "      <th>8</th>\n",
       "      <td>84</td>\n",
       "      <td>0</td>\n",
       "    </tr>\n",
       "    <tr>\n",
       "      <th>9</th>\n",
       "      <td>48</td>\n",
       "      <td>0</td>\n",
       "    </tr>\n",
       "  </tbody>\n",
       "</table>\n",
       "</div>"
      ],
      "text/plain": [
       "   ID  Gender\n",
       "2  86       0\n",
       "8  84       0\n",
       "9  48       0"
      ]
     },
     "execution_count": 40,
     "metadata": {},
     "output_type": "execute_result"
    }
   ],
   "source": [
    "hyp_test.loc[[2,8,9],['ID','Gender']]"
   ]
  },
  {
   "cell_type": "code",
   "execution_count": 61,
   "metadata": {},
   "outputs": [
    {
     "data": {
      "text/html": [
       "<div>\n",
       "<style scoped>\n",
       "    .dataframe tbody tr th:only-of-type {\n",
       "        vertical-align: middle;\n",
       "    }\n",
       "\n",
       "    .dataframe tbody tr th {\n",
       "        vertical-align: top;\n",
       "    }\n",
       "\n",
       "    .dataframe thead th {\n",
       "        text-align: right;\n",
       "    }\n",
       "</style>\n",
       "<table border=\"1\" class=\"dataframe\">\n",
       "  <thead>\n",
       "    <tr style=\"text-align: right;\">\n",
       "      <th></th>\n",
       "      <th>ID</th>\n",
       "      <th>Gender</th>\n",
       "      <th>Race</th>\n",
       "      <th>SEB</th>\n",
       "      <th>School</th>\n",
       "      <th>Prog</th>\n",
       "      <th>Read</th>\n",
       "      <th>Write</th>\n",
       "      <th>Math1</th>\n",
       "      <th>Math2</th>\n",
       "      <th>SST</th>\n",
       "    </tr>\n",
       "  </thead>\n",
       "  <tbody>\n",
       "    <tr>\n",
       "      <th>92</th>\n",
       "      <td>82</td>\n",
       "      <td>1</td>\n",
       "      <td>4</td>\n",
       "      <td>3</td>\n",
       "      <td>1</td>\n",
       "      <td>2</td>\n",
       "      <td>68</td>\n",
       "      <td>62</td>\n",
       "      <td>65</td>\n",
       "      <td>69</td>\n",
       "      <td>61</td>\n",
       "    </tr>\n",
       "    <tr>\n",
       "      <th>95</th>\n",
       "      <td>173</td>\n",
       "      <td>1</td>\n",
       "      <td>4</td>\n",
       "      <td>1</td>\n",
       "      <td>1</td>\n",
       "      <td>1</td>\n",
       "      <td>50</td>\n",
       "      <td>62</td>\n",
       "      <td>61</td>\n",
       "      <td>63</td>\n",
       "      <td>51</td>\n",
       "    </tr>\n",
       "    <tr>\n",
       "      <th>96</th>\n",
       "      <td>57</td>\n",
       "      <td>1</td>\n",
       "      <td>4</td>\n",
       "      <td>2</td>\n",
       "      <td>1</td>\n",
       "      <td>2</td>\n",
       "      <td>71</td>\n",
       "      <td>65</td>\n",
       "      <td>72</td>\n",
       "      <td>66</td>\n",
       "      <td>56</td>\n",
       "    </tr>\n",
       "    <tr>\n",
       "      <th>97</th>\n",
       "      <td>100</td>\n",
       "      <td>1</td>\n",
       "      <td>4</td>\n",
       "      <td>3</td>\n",
       "      <td>1</td>\n",
       "      <td>2</td>\n",
       "      <td>63</td>\n",
       "      <td>65</td>\n",
       "      <td>71</td>\n",
       "      <td>69</td>\n",
       "      <td>71</td>\n",
       "    </tr>\n",
       "    <tr>\n",
       "      <th>99</th>\n",
       "      <td>194</td>\n",
       "      <td>1</td>\n",
       "      <td>4</td>\n",
       "      <td>3</td>\n",
       "      <td>2</td>\n",
       "      <td>2</td>\n",
       "      <td>63</td>\n",
       "      <td>63</td>\n",
       "      <td>69</td>\n",
       "      <td>61</td>\n",
       "      <td>61</td>\n",
       "    </tr>\n",
       "    <tr>\n",
       "      <th>100</th>\n",
       "      <td>88</td>\n",
       "      <td>1</td>\n",
       "      <td>4</td>\n",
       "      <td>3</td>\n",
       "      <td>1</td>\n",
       "      <td>2</td>\n",
       "      <td>68</td>\n",
       "      <td>60</td>\n",
       "      <td>64</td>\n",
       "      <td>69</td>\n",
       "      <td>66</td>\n",
       "    </tr>\n",
       "    <tr>\n",
       "      <th>101</th>\n",
       "      <td>99</td>\n",
       "      <td>1</td>\n",
       "      <td>4</td>\n",
       "      <td>3</td>\n",
       "      <td>1</td>\n",
       "      <td>1</td>\n",
       "      <td>47</td>\n",
       "      <td>59</td>\n",
       "      <td>56</td>\n",
       "      <td>66</td>\n",
       "      <td>61</td>\n",
       "    </tr>\n",
       "    <tr>\n",
       "      <th>105</th>\n",
       "      <td>65</td>\n",
       "      <td>1</td>\n",
       "      <td>4</td>\n",
       "      <td>2</td>\n",
       "      <td>1</td>\n",
       "      <td>2</td>\n",
       "      <td>55</td>\n",
       "      <td>54</td>\n",
       "      <td>66</td>\n",
       "      <td>42</td>\n",
       "      <td>56</td>\n",
       "    </tr>\n",
       "    <tr>\n",
       "      <th>106</th>\n",
       "      <td>101</td>\n",
       "      <td>1</td>\n",
       "      <td>4</td>\n",
       "      <td>3</td>\n",
       "      <td>1</td>\n",
       "      <td>2</td>\n",
       "      <td>60</td>\n",
       "      <td>62</td>\n",
       "      <td>67</td>\n",
       "      <td>50</td>\n",
       "      <td>56</td>\n",
       "    </tr>\n",
       "    <tr>\n",
       "      <th>109</th>\n",
       "      <td>180</td>\n",
       "      <td>1</td>\n",
       "      <td>4</td>\n",
       "      <td>3</td>\n",
       "      <td>2</td>\n",
       "      <td>2</td>\n",
       "      <td>71</td>\n",
       "      <td>65</td>\n",
       "      <td>69</td>\n",
       "      <td>58</td>\n",
       "      <td>71</td>\n",
       "    </tr>\n",
       "    <tr>\n",
       "      <th>112</th>\n",
       "      <td>131</td>\n",
       "      <td>1</td>\n",
       "      <td>4</td>\n",
       "      <td>3</td>\n",
       "      <td>1</td>\n",
       "      <td>2</td>\n",
       "      <td>65</td>\n",
       "      <td>59</td>\n",
       "      <td>57</td>\n",
       "      <td>46</td>\n",
       "      <td>66</td>\n",
       "    </tr>\n",
       "    <tr>\n",
       "      <th>113</th>\n",
       "      <td>125</td>\n",
       "      <td>1</td>\n",
       "      <td>4</td>\n",
       "      <td>1</td>\n",
       "      <td>1</td>\n",
       "      <td>2</td>\n",
       "      <td>68</td>\n",
       "      <td>65</td>\n",
       "      <td>58</td>\n",
       "      <td>59</td>\n",
       "      <td>56</td>\n",
       "    </tr>\n",
       "    <tr>\n",
       "      <th>114</th>\n",
       "      <td>34</td>\n",
       "      <td>1</td>\n",
       "      <td>1</td>\n",
       "      <td>3</td>\n",
       "      <td>2</td>\n",
       "      <td>2</td>\n",
       "      <td>73</td>\n",
       "      <td>61</td>\n",
       "      <td>57</td>\n",
       "      <td>55</td>\n",
       "      <td>66</td>\n",
       "    </tr>\n",
       "    <tr>\n",
       "      <th>116</th>\n",
       "      <td>130</td>\n",
       "      <td>1</td>\n",
       "      <td>4</td>\n",
       "      <td>3</td>\n",
       "      <td>1</td>\n",
       "      <td>1</td>\n",
       "      <td>43</td>\n",
       "      <td>54</td>\n",
       "      <td>55</td>\n",
       "      <td>55</td>\n",
       "      <td>46</td>\n",
       "    </tr>\n",
       "    <tr>\n",
       "      <th>117</th>\n",
       "      <td>93</td>\n",
       "      <td>1</td>\n",
       "      <td>4</td>\n",
       "      <td>3</td>\n",
       "      <td>1</td>\n",
       "      <td>2</td>\n",
       "      <td>73</td>\n",
       "      <td>67</td>\n",
       "      <td>62</td>\n",
       "      <td>58</td>\n",
       "      <td>66</td>\n",
       "    </tr>\n",
       "    <tr>\n",
       "      <th>118</th>\n",
       "      <td>163</td>\n",
       "      <td>1</td>\n",
       "      <td>4</td>\n",
       "      <td>1</td>\n",
       "      <td>1</td>\n",
       "      <td>2</td>\n",
       "      <td>52</td>\n",
       "      <td>57</td>\n",
       "      <td>64</td>\n",
       "      <td>58</td>\n",
       "      <td>56</td>\n",
       "    </tr>\n",
       "    <tr>\n",
       "      <th>125</th>\n",
       "      <td>152</td>\n",
       "      <td>1</td>\n",
       "      <td>4</td>\n",
       "      <td>3</td>\n",
       "      <td>1</td>\n",
       "      <td>2</td>\n",
       "      <td>55</td>\n",
       "      <td>57</td>\n",
       "      <td>56</td>\n",
       "      <td>58</td>\n",
       "      <td>61</td>\n",
       "    </tr>\n",
       "    <tr>\n",
       "      <th>128</th>\n",
       "      <td>91</td>\n",
       "      <td>1</td>\n",
       "      <td>4</td>\n",
       "      <td>3</td>\n",
       "      <td>1</td>\n",
       "      <td>3</td>\n",
       "      <td>50</td>\n",
       "      <td>49</td>\n",
       "      <td>56</td>\n",
       "      <td>47</td>\n",
       "      <td>46</td>\n",
       "    </tr>\n",
       "    <tr>\n",
       "      <th>131</th>\n",
       "      <td>33</td>\n",
       "      <td>1</td>\n",
       "      <td>2</td>\n",
       "      <td>1</td>\n",
       "      <td>1</td>\n",
       "      <td>2</td>\n",
       "      <td>57</td>\n",
       "      <td>65</td>\n",
       "      <td>72</td>\n",
       "      <td>54</td>\n",
       "      <td>56</td>\n",
       "    </tr>\n",
       "    <tr>\n",
       "      <th>132</th>\n",
       "      <td>66</td>\n",
       "      <td>1</td>\n",
       "      <td>4</td>\n",
       "      <td>2</td>\n",
       "      <td>1</td>\n",
       "      <td>3</td>\n",
       "      <td>68</td>\n",
       "      <td>62</td>\n",
       "      <td>56</td>\n",
       "      <td>50</td>\n",
       "      <td>51</td>\n",
       "    </tr>\n",
       "    <tr>\n",
       "      <th>135</th>\n",
       "      <td>61</td>\n",
       "      <td>1</td>\n",
       "      <td>4</td>\n",
       "      <td>3</td>\n",
       "      <td>1</td>\n",
       "      <td>2</td>\n",
       "      <td>76</td>\n",
       "      <td>63</td>\n",
       "      <td>60</td>\n",
       "      <td>67</td>\n",
       "      <td>66</td>\n",
       "    </tr>\n",
       "    <tr>\n",
       "      <th>137</th>\n",
       "      <td>42</td>\n",
       "      <td>1</td>\n",
       "      <td>3</td>\n",
       "      <td>2</td>\n",
       "      <td>1</td>\n",
       "      <td>3</td>\n",
       "      <td>46</td>\n",
       "      <td>52</td>\n",
       "      <td>55</td>\n",
       "      <td>44</td>\n",
       "      <td>56</td>\n",
       "    </tr>\n",
       "    <tr>\n",
       "      <th>144</th>\n",
       "      <td>122</td>\n",
       "      <td>1</td>\n",
       "      <td>4</td>\n",
       "      <td>2</td>\n",
       "      <td>1</td>\n",
       "      <td>2</td>\n",
       "      <td>52</td>\n",
       "      <td>59</td>\n",
       "      <td>58</td>\n",
       "      <td>53</td>\n",
       "      <td>66</td>\n",
       "    </tr>\n",
       "    <tr>\n",
       "      <th>151</th>\n",
       "      <td>96</td>\n",
       "      <td>1</td>\n",
       "      <td>4</td>\n",
       "      <td>3</td>\n",
       "      <td>1</td>\n",
       "      <td>2</td>\n",
       "      <td>65</td>\n",
       "      <td>54</td>\n",
       "      <td>61</td>\n",
       "      <td>58</td>\n",
       "      <td>56</td>\n",
       "    </tr>\n",
       "    <tr>\n",
       "      <th>154</th>\n",
       "      <td>71</td>\n",
       "      <td>1</td>\n",
       "      <td>4</td>\n",
       "      <td>2</td>\n",
       "      <td>1</td>\n",
       "      <td>1</td>\n",
       "      <td>57</td>\n",
       "      <td>62</td>\n",
       "      <td>56</td>\n",
       "      <td>58</td>\n",
       "      <td>66</td>\n",
       "    </tr>\n",
       "    <tr>\n",
       "      <th>155</th>\n",
       "      <td>139</td>\n",
       "      <td>1</td>\n",
       "      <td>4</td>\n",
       "      <td>2</td>\n",
       "      <td>1</td>\n",
       "      <td>2</td>\n",
       "      <td>68</td>\n",
       "      <td>59</td>\n",
       "      <td>61</td>\n",
       "      <td>55</td>\n",
       "      <td>71</td>\n",
       "    </tr>\n",
       "    <tr>\n",
       "      <th>159</th>\n",
       "      <td>39</td>\n",
       "      <td>1</td>\n",
       "      <td>3</td>\n",
       "      <td>3</td>\n",
       "      <td>1</td>\n",
       "      <td>2</td>\n",
       "      <td>66</td>\n",
       "      <td>67</td>\n",
       "      <td>67</td>\n",
       "      <td>61</td>\n",
       "      <td>66</td>\n",
       "    </tr>\n",
       "    <tr>\n",
       "      <th>163</th>\n",
       "      <td>161</td>\n",
       "      <td>1</td>\n",
       "      <td>4</td>\n",
       "      <td>1</td>\n",
       "      <td>1</td>\n",
       "      <td>2</td>\n",
       "      <td>57</td>\n",
       "      <td>62</td>\n",
       "      <td>72</td>\n",
       "      <td>61</td>\n",
       "      <td>61</td>\n",
       "    </tr>\n",
       "    <tr>\n",
       "      <th>168</th>\n",
       "      <td>186</td>\n",
       "      <td>1</td>\n",
       "      <td>4</td>\n",
       "      <td>2</td>\n",
       "      <td>2</td>\n",
       "      <td>2</td>\n",
       "      <td>57</td>\n",
       "      <td>62</td>\n",
       "      <td>63</td>\n",
       "      <td>55</td>\n",
       "      <td>41</td>\n",
       "    </tr>\n",
       "    <tr>\n",
       "      <th>173</th>\n",
       "      <td>26</td>\n",
       "      <td>1</td>\n",
       "      <td>2</td>\n",
       "      <td>3</td>\n",
       "      <td>1</td>\n",
       "      <td>2</td>\n",
       "      <td>60</td>\n",
       "      <td>59</td>\n",
       "      <td>62</td>\n",
       "      <td>61</td>\n",
       "      <td>51</td>\n",
       "    </tr>\n",
       "    <tr>\n",
       "      <th>175</th>\n",
       "      <td>135</td>\n",
       "      <td>1</td>\n",
       "      <td>4</td>\n",
       "      <td>1</td>\n",
       "      <td>1</td>\n",
       "      <td>2</td>\n",
       "      <td>63</td>\n",
       "      <td>60</td>\n",
       "      <td>65</td>\n",
       "      <td>54</td>\n",
       "      <td>66</td>\n",
       "    </tr>\n",
       "    <tr>\n",
       "      <th>176</th>\n",
       "      <td>59</td>\n",
       "      <td>1</td>\n",
       "      <td>4</td>\n",
       "      <td>2</td>\n",
       "      <td>1</td>\n",
       "      <td>2</td>\n",
       "      <td>65</td>\n",
       "      <td>67</td>\n",
       "      <td>63</td>\n",
       "      <td>55</td>\n",
       "      <td>71</td>\n",
       "    </tr>\n",
       "    <tr>\n",
       "      <th>179</th>\n",
       "      <td>63</td>\n",
       "      <td>1</td>\n",
       "      <td>4</td>\n",
       "      <td>1</td>\n",
       "      <td>1</td>\n",
       "      <td>1</td>\n",
       "      <td>52</td>\n",
       "      <td>65</td>\n",
       "      <td>60</td>\n",
       "      <td>56</td>\n",
       "      <td>51</td>\n",
       "    </tr>\n",
       "    <tr>\n",
       "      <th>182</th>\n",
       "      <td>92</td>\n",
       "      <td>1</td>\n",
       "      <td>4</td>\n",
       "      <td>3</td>\n",
       "      <td>1</td>\n",
       "      <td>1</td>\n",
       "      <td>52</td>\n",
       "      <td>67</td>\n",
       "      <td>57</td>\n",
       "      <td>63</td>\n",
       "      <td>61</td>\n",
       "    </tr>\n",
       "    <tr>\n",
       "      <th>183</th>\n",
       "      <td>160</td>\n",
       "      <td>1</td>\n",
       "      <td>4</td>\n",
       "      <td>2</td>\n",
       "      <td>1</td>\n",
       "      <td>2</td>\n",
       "      <td>55</td>\n",
       "      <td>65</td>\n",
       "      <td>55</td>\n",
       "      <td>50</td>\n",
       "      <td>61</td>\n",
       "    </tr>\n",
       "    <tr>\n",
       "      <th>184</th>\n",
       "      <td>32</td>\n",
       "      <td>1</td>\n",
       "      <td>2</td>\n",
       "      <td>3</td>\n",
       "      <td>1</td>\n",
       "      <td>3</td>\n",
       "      <td>50</td>\n",
       "      <td>67</td>\n",
       "      <td>66</td>\n",
       "      <td>66</td>\n",
       "      <td>56</td>\n",
       "    </tr>\n",
       "    <tr>\n",
       "      <th>185</th>\n",
       "      <td>23</td>\n",
       "      <td>1</td>\n",
       "      <td>2</td>\n",
       "      <td>1</td>\n",
       "      <td>1</td>\n",
       "      <td>2</td>\n",
       "      <td>65</td>\n",
       "      <td>65</td>\n",
       "      <td>64</td>\n",
       "      <td>58</td>\n",
       "      <td>71</td>\n",
       "    </tr>\n",
       "    <tr>\n",
       "      <th>186</th>\n",
       "      <td>158</td>\n",
       "      <td>1</td>\n",
       "      <td>4</td>\n",
       "      <td>2</td>\n",
       "      <td>1</td>\n",
       "      <td>1</td>\n",
       "      <td>52</td>\n",
       "      <td>54</td>\n",
       "      <td>55</td>\n",
       "      <td>53</td>\n",
       "      <td>51</td>\n",
       "    </tr>\n",
       "    <tr>\n",
       "      <th>188</th>\n",
       "      <td>188</td>\n",
       "      <td>1</td>\n",
       "      <td>4</td>\n",
       "      <td>3</td>\n",
       "      <td>2</td>\n",
       "      <td>2</td>\n",
       "      <td>63</td>\n",
       "      <td>62</td>\n",
       "      <td>56</td>\n",
       "      <td>55</td>\n",
       "      <td>61</td>\n",
       "    </tr>\n",
       "    <tr>\n",
       "      <th>194</th>\n",
       "      <td>179</td>\n",
       "      <td>1</td>\n",
       "      <td>4</td>\n",
       "      <td>2</td>\n",
       "      <td>2</td>\n",
       "      <td>2</td>\n",
       "      <td>47</td>\n",
       "      <td>65</td>\n",
       "      <td>60</td>\n",
       "      <td>50</td>\n",
       "      <td>56</td>\n",
       "    </tr>\n",
       "    <tr>\n",
       "      <th>197</th>\n",
       "      <td>187</td>\n",
       "      <td>1</td>\n",
       "      <td>4</td>\n",
       "      <td>2</td>\n",
       "      <td>2</td>\n",
       "      <td>1</td>\n",
       "      <td>57</td>\n",
       "      <td>41</td>\n",
       "      <td>57</td>\n",
       "      <td>55</td>\n",
       "      <td>52</td>\n",
       "    </tr>\n",
       "    <tr>\n",
       "      <th>198</th>\n",
       "      <td>118</td>\n",
       "      <td>1</td>\n",
       "      <td>4</td>\n",
       "      <td>2</td>\n",
       "      <td>1</td>\n",
       "      <td>1</td>\n",
       "      <td>55</td>\n",
       "      <td>62</td>\n",
       "      <td>58</td>\n",
       "      <td>58</td>\n",
       "      <td>61</td>\n",
       "    </tr>\n",
       "    <tr>\n",
       "      <th>199</th>\n",
       "      <td>137</td>\n",
       "      <td>1</td>\n",
       "      <td>4</td>\n",
       "      <td>3</td>\n",
       "      <td>1</td>\n",
       "      <td>2</td>\n",
       "      <td>63</td>\n",
       "      <td>65</td>\n",
       "      <td>65</td>\n",
       "      <td>53</td>\n",
       "      <td>61</td>\n",
       "    </tr>\n",
       "  </tbody>\n",
       "</table>\n",
       "</div>"
      ],
      "text/plain": [
       "      ID  Gender  Race  SEB  School  Prog  Read  Write  Math1  Math2  SST\n",
       "92    82       1     4    3       1     2    68     62     65     69   61\n",
       "95   173       1     4    1       1     1    50     62     61     63   51\n",
       "96    57       1     4    2       1     2    71     65     72     66   56\n",
       "97   100       1     4    3       1     2    63     65     71     69   71\n",
       "99   194       1     4    3       2     2    63     63     69     61   61\n",
       "100   88       1     4    3       1     2    68     60     64     69   66\n",
       "101   99       1     4    3       1     1    47     59     56     66   61\n",
       "105   65       1     4    2       1     2    55     54     66     42   56\n",
       "106  101       1     4    3       1     2    60     62     67     50   56\n",
       "109  180       1     4    3       2     2    71     65     69     58   71\n",
       "112  131       1     4    3       1     2    65     59     57     46   66\n",
       "113  125       1     4    1       1     2    68     65     58     59   56\n",
       "114   34       1     1    3       2     2    73     61     57     55   66\n",
       "116  130       1     4    3       1     1    43     54     55     55   46\n",
       "117   93       1     4    3       1     2    73     67     62     58   66\n",
       "118  163       1     4    1       1     2    52     57     64     58   56\n",
       "125  152       1     4    3       1     2    55     57     56     58   61\n",
       "128   91       1     4    3       1     3    50     49     56     47   46\n",
       "131   33       1     2    1       1     2    57     65     72     54   56\n",
       "132   66       1     4    2       1     3    68     62     56     50   51\n",
       "135   61       1     4    3       1     2    76     63     60     67   66\n",
       "137   42       1     3    2       1     3    46     52     55     44   56\n",
       "144  122       1     4    2       1     2    52     59     58     53   66\n",
       "151   96       1     4    3       1     2    65     54     61     58   56\n",
       "154   71       1     4    2       1     1    57     62     56     58   66\n",
       "155  139       1     4    2       1     2    68     59     61     55   71\n",
       "159   39       1     3    3       1     2    66     67     67     61   66\n",
       "163  161       1     4    1       1     2    57     62     72     61   61\n",
       "168  186       1     4    2       2     2    57     62     63     55   41\n",
       "173   26       1     2    3       1     2    60     59     62     61   51\n",
       "175  135       1     4    1       1     2    63     60     65     54   66\n",
       "176   59       1     4    2       1     2    65     67     63     55   71\n",
       "179   63       1     4    1       1     1    52     65     60     56   51\n",
       "182   92       1     4    3       1     1    52     67     57     63   61\n",
       "183  160       1     4    2       1     2    55     65     55     50   61\n",
       "184   32       1     2    3       1     3    50     67     66     66   56\n",
       "185   23       1     2    1       1     2    65     65     64     58   71\n",
       "186  158       1     4    2       1     1    52     54     55     53   51\n",
       "188  188       1     4    3       2     2    63     62     56     55   61\n",
       "194  179       1     4    2       2     2    47     65     60     50   56\n",
       "197  187       1     4    2       2     1    57     41     57     55   52\n",
       "198  118       1     4    2       1     1    55     62     58     58   61\n",
       "199  137       1     4    3       1     2    63     65     65     53   61"
      ]
     },
     "execution_count": 61,
     "metadata": {},
     "output_type": "execute_result"
    }
   ],
   "source": [
    "hyp_test['Gender']\n",
    "hyp_test[['Gender','ID']]\n",
    "lst=[1,3]\n",
    "hyp_test[hyp_test['Race'].isin(lst)]\n",
    "hyp_test.sort_values(by='Math1',ascending=True)\n",
    "hyp_test[(hyp_test['Gender']==1)& (hyp_test['Math1']>54)]"
   ]
  },
  {
   "cell_type": "code",
   "execution_count": 42,
   "metadata": {},
   "outputs": [
    {
     "data": {
      "text/plain": [
       "52.645"
      ]
     },
     "execution_count": 42,
     "metadata": {},
     "output_type": "execute_result"
    }
   ],
   "source": [
    "hyp_test.Math1.mean()"
   ]
  },
  {
   "cell_type": "code",
   "execution_count": 44,
   "metadata": {},
   "outputs": [
    {
     "data": {
      "text/html": [
       "<div>\n",
       "<style scoped>\n",
       "    .dataframe tbody tr th:only-of-type {\n",
       "        vertical-align: middle;\n",
       "    }\n",
       "\n",
       "    .dataframe tbody tr th {\n",
       "        vertical-align: top;\n",
       "    }\n",
       "\n",
       "    .dataframe thead th {\n",
       "        text-align: right;\n",
       "    }\n",
       "</style>\n",
       "<table border=\"1\" class=\"dataframe\">\n",
       "  <thead>\n",
       "    <tr style=\"text-align: right;\">\n",
       "      <th></th>\n",
       "      <th>ID</th>\n",
       "      <th>Gender</th>\n",
       "      <th>Race</th>\n",
       "      <th>SEB</th>\n",
       "      <th>School</th>\n",
       "      <th>Prog</th>\n",
       "      <th>Read</th>\n",
       "      <th>Write</th>\n",
       "      <th>Math1</th>\n",
       "      <th>Math2</th>\n",
       "      <th>SST</th>\n",
       "    </tr>\n",
       "  </thead>\n",
       "  <tbody>\n",
       "    <tr>\n",
       "      <th>0</th>\n",
       "      <td>70</td>\n",
       "      <td>0</td>\n",
       "      <td>4</td>\n",
       "      <td>1</td>\n",
       "      <td>1</td>\n",
       "      <td>1</td>\n",
       "      <td>57</td>\n",
       "      <td>52</td>\n",
       "      <td>41</td>\n",
       "      <td>47</td>\n",
       "      <td>57</td>\n",
       "    </tr>\n",
       "    <tr>\n",
       "      <th>1</th>\n",
       "      <td>121</td>\n",
       "      <td>1</td>\n",
       "      <td>4</td>\n",
       "      <td>2</td>\n",
       "      <td>1</td>\n",
       "      <td>3</td>\n",
       "      <td>68</td>\n",
       "      <td>59</td>\n",
       "      <td>53</td>\n",
       "      <td>63</td>\n",
       "      <td>61</td>\n",
       "    </tr>\n",
       "  </tbody>\n",
       "</table>\n",
       "</div>"
      ],
      "text/plain": [
       "    ID  Gender  Race  SEB  School  Prog  Read  Write  Math1  Math2  SST\n",
       "0   70       0     4    1       1     1    57     52     41     47   57\n",
       "1  121       1     4    2       1     3    68     59     53     63   61"
      ]
     },
     "execution_count": 44,
     "metadata": {},
     "output_type": "execute_result"
    }
   ],
   "source": [
    "hyp_test.head(2)"
   ]
  },
  {
   "cell_type": "code",
   "execution_count": 49,
   "metadata": {},
   "outputs": [
    {
     "data": {
      "text/plain": [
       "ID        100.500\n",
       "Gender      0.545\n",
       "Race        3.430\n",
       "SEB         2.055\n",
       "School      1.160\n",
       "Prog        2.025\n",
       "Read       52.230\n",
       "Write      52.775\n",
       "Math1      52.645\n",
       "Math2      51.850\n",
       "SST        52.405\n",
       "dtype: float64"
      ]
     },
     "execution_count": 49,
     "metadata": {},
     "output_type": "execute_result"
    }
   ],
   "source": [
    "#skip na,null and etc missing value true will skip the missing value \n",
    "hyp_test.mean(axis=0,skipna=True)"
   ]
  },
  {
   "cell_type": "code",
   "execution_count": 50,
   "metadata": {},
   "outputs": [
    {
     "data": {
      "text/plain": [
       "1    109\n",
       "0     91\n",
       "Name: Gender, dtype: int64"
      ]
     },
     "execution_count": 50,
     "metadata": {},
     "output_type": "execute_result"
    }
   ],
   "source": [
    "hyp_test.Gender.value_counts()"
   ]
  },
  {
   "cell_type": "code",
   "execution_count": 51,
   "metadata": {},
   "outputs": [
    {
     "data": {
      "text/html": [
       "<div>\n",
       "<style scoped>\n",
       "    .dataframe tbody tr th:only-of-type {\n",
       "        vertical-align: middle;\n",
       "    }\n",
       "\n",
       "    .dataframe tbody tr th {\n",
       "        vertical-align: top;\n",
       "    }\n",
       "\n",
       "    .dataframe thead th {\n",
       "        text-align: right;\n",
       "    }\n",
       "</style>\n",
       "<table border=\"1\" class=\"dataframe\">\n",
       "  <thead>\n",
       "    <tr style=\"text-align: right;\">\n",
       "      <th></th>\n",
       "      <th>ID</th>\n",
       "      <th>Gender</th>\n",
       "      <th>Race</th>\n",
       "      <th>SEB</th>\n",
       "      <th>School</th>\n",
       "      <th>Prog</th>\n",
       "      <th>Read</th>\n",
       "      <th>Write</th>\n",
       "      <th>Math1</th>\n",
       "      <th>Math2</th>\n",
       "      <th>SST</th>\n",
       "    </tr>\n",
       "  </thead>\n",
       "  <tbody>\n",
       "    <tr>\n",
       "      <th>count</th>\n",
       "      <td>200.000000</td>\n",
       "      <td>200.00000</td>\n",
       "      <td>200.000000</td>\n",
       "      <td>200.000000</td>\n",
       "      <td>200.000000</td>\n",
       "      <td>200.000000</td>\n",
       "      <td>200.000000</td>\n",
       "      <td>200.000000</td>\n",
       "      <td>200.000000</td>\n",
       "      <td>200.000000</td>\n",
       "      <td>200.000000</td>\n",
       "    </tr>\n",
       "    <tr>\n",
       "      <th>mean</th>\n",
       "      <td>100.500000</td>\n",
       "      <td>0.54500</td>\n",
       "      <td>3.430000</td>\n",
       "      <td>2.055000</td>\n",
       "      <td>1.160000</td>\n",
       "      <td>2.025000</td>\n",
       "      <td>52.230000</td>\n",
       "      <td>52.775000</td>\n",
       "      <td>52.645000</td>\n",
       "      <td>51.850000</td>\n",
       "      <td>52.405000</td>\n",
       "    </tr>\n",
       "    <tr>\n",
       "      <th>std</th>\n",
       "      <td>57.879185</td>\n",
       "      <td>0.49922</td>\n",
       "      <td>1.039472</td>\n",
       "      <td>0.724291</td>\n",
       "      <td>0.367526</td>\n",
       "      <td>0.690477</td>\n",
       "      <td>10.252937</td>\n",
       "      <td>9.478586</td>\n",
       "      <td>9.368448</td>\n",
       "      <td>9.900891</td>\n",
       "      <td>10.735793</td>\n",
       "    </tr>\n",
       "    <tr>\n",
       "      <th>min</th>\n",
       "      <td>1.000000</td>\n",
       "      <td>0.00000</td>\n",
       "      <td>1.000000</td>\n",
       "      <td>1.000000</td>\n",
       "      <td>1.000000</td>\n",
       "      <td>1.000000</td>\n",
       "      <td>28.000000</td>\n",
       "      <td>31.000000</td>\n",
       "      <td>33.000000</td>\n",
       "      <td>26.000000</td>\n",
       "      <td>26.000000</td>\n",
       "    </tr>\n",
       "    <tr>\n",
       "      <th>25%</th>\n",
       "      <td>50.750000</td>\n",
       "      <td>0.00000</td>\n",
       "      <td>3.000000</td>\n",
       "      <td>2.000000</td>\n",
       "      <td>1.000000</td>\n",
       "      <td>2.000000</td>\n",
       "      <td>44.000000</td>\n",
       "      <td>45.750000</td>\n",
       "      <td>45.000000</td>\n",
       "      <td>44.000000</td>\n",
       "      <td>46.000000</td>\n",
       "    </tr>\n",
       "    <tr>\n",
       "      <th>50%</th>\n",
       "      <td>100.500000</td>\n",
       "      <td>1.00000</td>\n",
       "      <td>4.000000</td>\n",
       "      <td>2.000000</td>\n",
       "      <td>1.000000</td>\n",
       "      <td>2.000000</td>\n",
       "      <td>50.000000</td>\n",
       "      <td>54.000000</td>\n",
       "      <td>52.000000</td>\n",
       "      <td>53.000000</td>\n",
       "      <td>52.000000</td>\n",
       "    </tr>\n",
       "    <tr>\n",
       "      <th>75%</th>\n",
       "      <td>150.250000</td>\n",
       "      <td>1.00000</td>\n",
       "      <td>4.000000</td>\n",
       "      <td>3.000000</td>\n",
       "      <td>1.000000</td>\n",
       "      <td>2.250000</td>\n",
       "      <td>60.000000</td>\n",
       "      <td>60.000000</td>\n",
       "      <td>59.000000</td>\n",
       "      <td>58.000000</td>\n",
       "      <td>61.000000</td>\n",
       "    </tr>\n",
       "    <tr>\n",
       "      <th>max</th>\n",
       "      <td>200.000000</td>\n",
       "      <td>1.00000</td>\n",
       "      <td>4.000000</td>\n",
       "      <td>3.000000</td>\n",
       "      <td>2.000000</td>\n",
       "      <td>3.000000</td>\n",
       "      <td>76.000000</td>\n",
       "      <td>67.000000</td>\n",
       "      <td>75.000000</td>\n",
       "      <td>74.000000</td>\n",
       "      <td>71.000000</td>\n",
       "    </tr>\n",
       "  </tbody>\n",
       "</table>\n",
       "</div>"
      ],
      "text/plain": [
       "               ID     Gender        Race         SEB      School        Prog  \\\n",
       "count  200.000000  200.00000  200.000000  200.000000  200.000000  200.000000   \n",
       "mean   100.500000    0.54500    3.430000    2.055000    1.160000    2.025000   \n",
       "std     57.879185    0.49922    1.039472    0.724291    0.367526    0.690477   \n",
       "min      1.000000    0.00000    1.000000    1.000000    1.000000    1.000000   \n",
       "25%     50.750000    0.00000    3.000000    2.000000    1.000000    2.000000   \n",
       "50%    100.500000    1.00000    4.000000    2.000000    1.000000    2.000000   \n",
       "75%    150.250000    1.00000    4.000000    3.000000    1.000000    2.250000   \n",
       "max    200.000000    1.00000    4.000000    3.000000    2.000000    3.000000   \n",
       "\n",
       "             Read       Write       Math1       Math2         SST  \n",
       "count  200.000000  200.000000  200.000000  200.000000  200.000000  \n",
       "mean    52.230000   52.775000   52.645000   51.850000   52.405000  \n",
       "std     10.252937    9.478586    9.368448    9.900891   10.735793  \n",
       "min     28.000000   31.000000   33.000000   26.000000   26.000000  \n",
       "25%     44.000000   45.750000   45.000000   44.000000   46.000000  \n",
       "50%     50.000000   54.000000   52.000000   53.000000   52.000000  \n",
       "75%     60.000000   60.000000   59.000000   58.000000   61.000000  \n",
       "max     76.000000   67.000000   75.000000   74.000000   71.000000  "
      ]
     },
     "execution_count": 51,
     "metadata": {},
     "output_type": "execute_result"
    }
   ],
   "source": [
    "hyp_test.describe()"
   ]
  },
  {
   "cell_type": "code",
   "execution_count": 54,
   "metadata": {},
   "outputs": [
    {
     "data": {
      "text/plain": [
       "ID        100.5\n",
       "Gender      1.0\n",
       "Race        4.0\n",
       "SEB         2.0\n",
       "School      1.0\n",
       "Prog        2.0\n",
       "Read       50.0\n",
       "Write      54.0\n",
       "Math1      52.0\n",
       "Math2      53.0\n",
       "SST        52.0\n",
       "dtype: float64"
      ]
     },
     "execution_count": 54,
     "metadata": {},
     "output_type": "execute_result"
    }
   ],
   "source": [
    "hyp_test.median(axis=0)"
   ]
  },
  {
   "cell_type": "code",
   "execution_count": 56,
   "metadata": {},
   "outputs": [
    {
     "data": {
      "text/plain": [
       "0    4\n",
       "dtype: int64"
      ]
     },
     "execution_count": 56,
     "metadata": {},
     "output_type": "execute_result"
    }
   ],
   "source": [
    "hyp_test.Race.mode()"
   ]
  },
  {
   "cell_type": "code",
   "execution_count": 58,
   "metadata": {},
   "outputs": [
    {
     "data": {
      "text/plain": [
       "4    145\n",
       "1     24\n",
       "3     20\n",
       "2     11\n",
       "Name: Race, dtype: int64"
      ]
     },
     "execution_count": 58,
     "metadata": {},
     "output_type": "execute_result"
    }
   ],
   "source": [
    "hyp_test.Race.value_counts()"
   ]
  },
  {
   "cell_type": "code",
   "execution_count": 59,
   "metadata": {},
   "outputs": [
    {
     "data": {
      "text/plain": [
       "52.0"
      ]
     },
     "execution_count": 59,
     "metadata": {},
     "output_type": "execute_result"
    }
   ],
   "source": [
    "hyp_test.Math1.quantile() #median by default"
   ]
  },
  {
   "cell_type": "code",
   "execution_count": 60,
   "metadata": {},
   "outputs": [
    {
     "data": {
      "text/plain": [
       "45.0"
      ]
     },
     "execution_count": 60,
     "metadata": {},
     "output_type": "execute_result"
    }
   ],
   "source": [
    "hyp_test.Math1.quantile(0.25)"
   ]
  },
  {
   "cell_type": "code",
   "execution_count": 61,
   "metadata": {},
   "outputs": [
    {
     "data": {
      "text/plain": [
       "59.0"
      ]
     },
     "execution_count": 61,
     "metadata": {},
     "output_type": "execute_result"
    }
   ],
   "source": [
    "hyp_test.Math1.quantile(0.75)"
   ]
  },
  {
   "cell_type": "code",
   "execution_count": 62,
   "metadata": {},
   "outputs": [
    {
     "data": {
      "text/plain": [
       "52.0"
      ]
     },
     "execution_count": 62,
     "metadata": {},
     "output_type": "execute_result"
    }
   ],
   "source": [
    "hyp_test.Math1.quantile(0.50)"
   ]
  },
  {
   "cell_type": "code",
   "execution_count": 63,
   "metadata": {},
   "outputs": [
    {
     "data": {
      "text/plain": [
       "9.368447794077296"
      ]
     },
     "execution_count": 63,
     "metadata": {},
     "output_type": "execute_result"
    }
   ],
   "source": [
    "hyp_test.Math1.std()"
   ]
  },
  {
   "cell_type": "code",
   "execution_count": 64,
   "metadata": {},
   "outputs": [
    {
     "data": {
      "text/plain": [
       "0.2865652200784926"
      ]
     },
     "execution_count": 64,
     "metadata": {},
     "output_type": "execute_result"
    }
   ],
   "source": [
    "hyp_test.Math1.skew()"
   ]
  },
  {
   "cell_type": "code",
   "execution_count": 65,
   "metadata": {},
   "outputs": [
    {
     "data": {
      "text/plain": [
       "87.76781407035176"
      ]
     },
     "execution_count": 65,
     "metadata": {},
     "output_type": "execute_result"
    }
   ],
   "source": [
    "hyp_test.Math1.var()"
   ]
  },
  {
   "cell_type": "code",
   "execution_count": 78,
   "metadata": {},
   "outputs": [
    {
     "data": {
      "text/plain": [
       "1    168\n",
       "2     32\n",
       "Name: School, dtype: int64"
      ]
     },
     "execution_count": 78,
     "metadata": {},
     "output_type": "execute_result"
    }
   ],
   "source": [
    "hyp_test['School'].value_counts()"
   ]
  },
  {
   "cell_type": "code",
   "execution_count": 79,
   "metadata": {},
   "outputs": [],
   "source": [
    "#As per the sample collected , Teacher has assumtion of student will score more than >54 marks .\n",
    "H0 >50\n",
    "Ha<50 "
   ]
  },
  {
   "cell_type": "code",
   "execution_count": 80,
   "metadata": {},
   "outputs": [],
   "source": [
    "import scipy.stats as st "
   ]
  },
  {
   "cell_type": "code",
   "execution_count": 83,
   "metadata": {},
   "outputs": [
    {
     "data": {
      "text/plain": [
       "Ttest_1sampResult(statistic=3.992758410674641, pvalue=9.183839432518618e-05)"
      ]
     },
     "execution_count": 83,
     "metadata": {},
     "output_type": "execute_result"
    }
   ],
   "source": [
    "st.ttest_1samp(hyp_test.Math1,50) # by default it's take 2 tailed test hence given hypothsis is left tail , we need to divide by 2 to get left tail"
   ]
  },
  {
   "cell_type": "code",
   "execution_count": 84,
   "metadata": {},
   "outputs": [],
   "source": [
    "#statistic=3.992758410674641 t value ,pvalue=9.183839432518618e-05"
   ]
  },
  {
   "cell_type": "code",
   "execution_count": 85,
   "metadata": {},
   "outputs": [
    {
     "data": {
      "text/plain": [
       "4.591919716259309e-05"
      ]
     },
     "execution_count": 85,
     "metadata": {},
     "output_type": "execute_result"
    }
   ],
   "source": [
    "st.ttest_1samp(hyp_test.Math1,50)[1]/2  # From the above output e-05 means output will be 0.000045"
   ]
  },
  {
   "cell_type": "code",
   "execution_count": 10,
   "metadata": {},
   "outputs": [
    {
     "name": "stderr",
     "output_type": "stream",
     "text": [
      "/Users/pkumar5/anaconda3/lib/python3.6/importlib/_bootstrap.py:219: RuntimeWarning: numpy.dtype size changed, may indicate binary incompatibility. Expected 96, got 88\n",
      "  return f(*args, **kwds)\n",
      "/Users/pkumar5/anaconda3/lib/python3.6/importlib/_bootstrap.py:219: RuntimeWarning: numpy.dtype size changed, may indicate binary incompatibility. Expected 96, got 88\n",
      "  return f(*args, **kwds)\n"
     ]
    }
   ],
   "source": [
    "import pandas as pd\n",
    "hyp = pd.read_csv(\"/Users/pkumar5/Desktop/prasanna_kumar/simpli-learning/dataset/Lesson 8-9 Hypothesis Testing Ex 1.csv\")"
   ]
  },
  {
   "cell_type": "code",
   "execution_count": 11,
   "metadata": {},
   "outputs": [
    {
     "data": {
      "text/html": [
       "<div>\n",
       "<style scoped>\n",
       "    .dataframe tbody tr th:only-of-type {\n",
       "        vertical-align: middle;\n",
       "    }\n",
       "\n",
       "    .dataframe tbody tr th {\n",
       "        vertical-align: top;\n",
       "    }\n",
       "\n",
       "    .dataframe thead th {\n",
       "        text-align: right;\n",
       "    }\n",
       "</style>\n",
       "<table border=\"1\" class=\"dataframe\">\n",
       "  <thead>\n",
       "    <tr style=\"text-align: right;\">\n",
       "      <th></th>\n",
       "      <th>ID</th>\n",
       "      <th>Gender</th>\n",
       "      <th>Race</th>\n",
       "      <th>SEB</th>\n",
       "      <th>School</th>\n",
       "      <th>Prog</th>\n",
       "      <th>Read</th>\n",
       "      <th>Write</th>\n",
       "      <th>Math1</th>\n",
       "      <th>Math2</th>\n",
       "      <th>SST</th>\n",
       "    </tr>\n",
       "  </thead>\n",
       "  <tbody>\n",
       "    <tr>\n",
       "      <th>0</th>\n",
       "      <td>70</td>\n",
       "      <td>0</td>\n",
       "      <td>4</td>\n",
       "      <td>1</td>\n",
       "      <td>1</td>\n",
       "      <td>1</td>\n",
       "      <td>57</td>\n",
       "      <td>52</td>\n",
       "      <td>41</td>\n",
       "      <td>47</td>\n",
       "      <td>57</td>\n",
       "    </tr>\n",
       "    <tr>\n",
       "      <th>1</th>\n",
       "      <td>121</td>\n",
       "      <td>1</td>\n",
       "      <td>4</td>\n",
       "      <td>2</td>\n",
       "      <td>1</td>\n",
       "      <td>3</td>\n",
       "      <td>68</td>\n",
       "      <td>59</td>\n",
       "      <td>53</td>\n",
       "      <td>63</td>\n",
       "      <td>61</td>\n",
       "    </tr>\n",
       "    <tr>\n",
       "      <th>2</th>\n",
       "      <td>86</td>\n",
       "      <td>0</td>\n",
       "      <td>4</td>\n",
       "      <td>3</td>\n",
       "      <td>1</td>\n",
       "      <td>1</td>\n",
       "      <td>44</td>\n",
       "      <td>33</td>\n",
       "      <td>54</td>\n",
       "      <td>58</td>\n",
       "      <td>31</td>\n",
       "    </tr>\n",
       "    <tr>\n",
       "      <th>3</th>\n",
       "      <td>141</td>\n",
       "      <td>0</td>\n",
       "      <td>4</td>\n",
       "      <td>3</td>\n",
       "      <td>1</td>\n",
       "      <td>3</td>\n",
       "      <td>63</td>\n",
       "      <td>44</td>\n",
       "      <td>47</td>\n",
       "      <td>53</td>\n",
       "      <td>56</td>\n",
       "    </tr>\n",
       "    <tr>\n",
       "      <th>4</th>\n",
       "      <td>172</td>\n",
       "      <td>0</td>\n",
       "      <td>4</td>\n",
       "      <td>2</td>\n",
       "      <td>1</td>\n",
       "      <td>2</td>\n",
       "      <td>47</td>\n",
       "      <td>52</td>\n",
       "      <td>57</td>\n",
       "      <td>53</td>\n",
       "      <td>61</td>\n",
       "    </tr>\n",
       "  </tbody>\n",
       "</table>\n",
       "</div>"
      ],
      "text/plain": [
       "    ID  Gender  Race  SEB  School  Prog  Read  Write  Math1  Math2  SST\n",
       "0   70       0     4    1       1     1    57     52     41     47   57\n",
       "1  121       1     4    2       1     3    68     59     53     63   61\n",
       "2   86       0     4    3       1     1    44     33     54     58   31\n",
       "3  141       0     4    3       1     3    63     44     47     53   56\n",
       "4  172       0     4    2       1     2    47     52     57     53   61"
      ]
     },
     "execution_count": 11,
     "metadata": {},
     "output_type": "execute_result"
    }
   ],
   "source": [
    "hyp.head()"
   ]
  },
  {
   "cell_type": "markdown",
   "metadata": {},
   "source": [
    "Doing hypothesis testing the to check the significant marks of girls and boys are high \n",
    "1. Test weather there is significant diff in mathes marks of girls and boys\n",
    "  H0 : Mean boys = Mean girls\n",
    "  Ha : Mean boys != Mean girls (usually we take 5% as significant )\n",
    "  \n",
    "2. Test weather the training was effective or not i.e Math1 is before training and math2 is after training  \n",
    " H0 : Mean of maths 1< mean of Maths 2\n",
    " Ha : Mean of maths 1> mean of Maths 2\n",
    "\n",
    "#paired samples - st.ttest_rel(x,y)\n",
    "#independent samples - st.ttest_ind(x,y)"
   ]
  },
  {
   "cell_type": "code",
   "execution_count": 26,
   "metadata": {},
   "outputs": [
    {
     "name": "stdout",
     "output_type": "stream",
     "text": [
      "0.6800544974232143\n",
      "0.17676525605507354\n"
     ]
    }
   ],
   "source": [
    "import scipy.stats as st\n",
    "#1 girls marks and boys marks are not dependent hence we are using the ttest_ind method \n",
    "hyp_gen1= hyp[hyp['Gender']==1]\n",
    "mean1=hyp_gen1.Math1.mean()\n",
    "p_valu=st.ttest_ind(hyp[hyp['Gender']==1].Math1,hyp[hyp['Gender']==0].Math1)[1]\n",
    "print(p_valu)\n",
    "#2 Here Marks before nad after trainging were inter-dependent . We are checking the is there any significant effective on marks \n",
    "\n",
    "pavalue2=st.ttest_rel(hyp.Math1,hyp.Math2)[1]\n",
    "print(pavalue2)\n",
    "\n",
    "# from the above 2 value p value are very high hence we are accepting null hypothesis \n",
    "# 1 there is no significant diff in maths marks in boys and girls ,P -valus is 68% usually accepts 5% \n",
    "# 2 .There is no significant variance in Maths marks before and after the maths training  p-value is 17% usually accepts 5% \n",
    "# Hence in both use cases we are accepting the Null Hypothesis \n",
    "\n"
   ]
  },
  {
   "cell_type": "code",
   "execution_count": 29,
   "metadata": {},
   "outputs": [
    {
     "data": {
      "text/plain": [
       "2    105\n",
       "3     50\n",
       "1     45\n",
       "Name: Prog, dtype: int64"
      ]
     },
     "execution_count": 29,
     "metadata": {},
     "output_type": "execute_result"
    }
   ],
   "source": [
    "hyp.Prog.value_counts()"
   ]
  },
  {
   "cell_type": "markdown",
   "metadata": {},
   "source": [
    "## Anova\n",
    "\n",
    "Check maths score based on progs in given dataset "
   ]
  },
  {
   "cell_type": "code",
   "execution_count": 35,
   "metadata": {},
   "outputs": [
    {
     "data": {
      "text/html": [
       "<div>\n",
       "<style scoped>\n",
       "    .dataframe tbody tr th:only-of-type {\n",
       "        vertical-align: middle;\n",
       "    }\n",
       "\n",
       "    .dataframe tbody tr th {\n",
       "        vertical-align: top;\n",
       "    }\n",
       "\n",
       "    .dataframe thead th {\n",
       "        text-align: right;\n",
       "    }\n",
       "</style>\n",
       "<table border=\"1\" class=\"dataframe\">\n",
       "  <thead>\n",
       "    <tr style=\"text-align: right;\">\n",
       "      <th></th>\n",
       "      <th>df</th>\n",
       "      <th>sum_sq</th>\n",
       "      <th>mean_sq</th>\n",
       "      <th>F</th>\n",
       "      <th>PR(&gt;F)</th>\n",
       "    </tr>\n",
       "  </thead>\n",
       "  <tbody>\n",
       "    <tr>\n",
       "      <th>Prog</th>\n",
       "      <td>1.0</td>\n",
       "      <td>393.527279</td>\n",
       "      <td>393.527279</td>\n",
       "      <td>4.564033</td>\n",
       "      <td>0.033878</td>\n",
       "    </tr>\n",
       "    <tr>\n",
       "      <th>Residual</th>\n",
       "      <td>198.0</td>\n",
       "      <td>17072.267721</td>\n",
       "      <td>86.223574</td>\n",
       "      <td>NaN</td>\n",
       "      <td>NaN</td>\n",
       "    </tr>\n",
       "  </tbody>\n",
       "</table>\n",
       "</div>"
      ],
      "text/plain": [
       "             df        sum_sq     mean_sq         F    PR(>F)\n",
       "Prog        1.0    393.527279  393.527279  4.564033  0.033878\n",
       "Residual  198.0  17072.267721   86.223574       NaN       NaN"
      ]
     },
     "execution_count": 35,
     "metadata": {},
     "output_type": "execute_result"
    }
   ],
   "source": [
    "import statsmodels.api as sm\n",
    "from statsmodels.formula.api import ols\n",
    "mod=ols('Math1~Prog',data=hyp).fit()\n",
    "aov_table=sm.stats.anova_lm(mod)\n",
    "aov_table"
   ]
  },
  {
   "cell_type": "markdown",
   "metadata": {},
   "source": [
    "#Chi-square test"
   ]
  },
  {
   "cell_type": "code",
   "execution_count": 41,
   "metadata": {},
   "outputs": [
    {
     "data": {
      "text/plain": [
       "(9.268707482993197, 0.009712381719872817, 2, array([[37.8,  7.2],\n",
       "        [88.2, 16.8],\n",
       "        [42. ,  8. ]]))"
      ]
     },
     "execution_count": 41,
     "metadata": {},
     "output_type": "execute_result"
    }
   ],
   "source": [
    "contigency_table = pd.crosstab(hyp.Prog,hyp.School)\n",
    "chi_sq,p_val,dof,exp_freq =st.chi2_contingency(contigency_table)\n",
    "chi_sq,p_val,dof,exp_freq"
   ]
  },
  {
   "cell_type": "code",
   "execution_count": 62,
   "metadata": {},
   "outputs": [
    {
     "name": "stdout",
     "output_type": "stream",
     "text": [
      "Help on function chi2_contingency in module scipy.stats.contingency:\n",
      "\n",
      "chi2_contingency(observed, correction=True, lambda_=None)\n",
      "    Chi-square test of independence of variables in a contingency table.\n",
      "    \n",
      "    This function computes the chi-square statistic and p-value for the\n",
      "    hypothesis test of independence of the observed frequencies in the\n",
      "    contingency table [1]_ `observed`.  The expected frequencies are computed\n",
      "    based on the marginal sums under the assumption of independence; see\n",
      "    `scipy.stats.contingency.expected_freq`.  The number of degrees of\n",
      "    freedom is (expressed using numpy functions and attributes)::\n",
      "    \n",
      "        dof = observed.size - sum(observed.shape) + observed.ndim - 1\n",
      "    \n",
      "    \n",
      "    Parameters\n",
      "    ----------\n",
      "    observed : array_like\n",
      "        The contingency table. The table contains the observed frequencies\n",
      "        (i.e. number of occurrences) in each category.  In the two-dimensional\n",
      "        case, the table is often described as an \"R x C table\".\n",
      "    correction : bool, optional\n",
      "        If True, *and* the degrees of freedom is 1, apply Yates' correction\n",
      "        for continuity.  The effect of the correction is to adjust each\n",
      "        observed value by 0.5 towards the corresponding expected value.\n",
      "    lambda_ : float or str, optional.\n",
      "        By default, the statistic computed in this test is Pearson's\n",
      "        chi-squared statistic [2]_.  `lambda_` allows a statistic from the\n",
      "        Cressie-Read power divergence family [3]_ to be used instead.  See\n",
      "        `power_divergence` for details.\n",
      "    \n",
      "    Returns\n",
      "    -------\n",
      "    chi2 : float\n",
      "        The test statistic.\n",
      "    p : float\n",
      "        The p-value of the test\n",
      "    dof : int\n",
      "        Degrees of freedom\n",
      "    expected : ndarray, same shape as `observed`\n",
      "        The expected frequencies, based on the marginal sums of the table.\n",
      "    \n",
      "    See Also\n",
      "    --------\n",
      "    contingency.expected_freq\n",
      "    fisher_exact\n",
      "    chisquare\n",
      "    power_divergence\n",
      "    \n",
      "    Notes\n",
      "    -----\n",
      "    An often quoted guideline for the validity of this calculation is that\n",
      "    the test should be used only if the observed and expected frequencies\n",
      "    in each cell are at least 5.\n",
      "    \n",
      "    This is a test for the independence of different categories of a\n",
      "    population. The test is only meaningful when the dimension of\n",
      "    `observed` is two or more.  Applying the test to a one-dimensional\n",
      "    table will always result in `expected` equal to `observed` and a\n",
      "    chi-square statistic equal to 0.\n",
      "    \n",
      "    This function does not handle masked arrays, because the calculation\n",
      "    does not make sense with missing values.\n",
      "    \n",
      "    Like stats.chisquare, this function computes a chi-square statistic;\n",
      "    the convenience this function provides is to figure out the expected\n",
      "    frequencies and degrees of freedom from the given contingency table.\n",
      "    If these were already known, and if the Yates' correction was not\n",
      "    required, one could use stats.chisquare.  That is, if one calls::\n",
      "    \n",
      "        chi2, p, dof, ex = chi2_contingency(obs, correction=False)\n",
      "    \n",
      "    then the following is true::\n",
      "    \n",
      "        (chi2, p) == stats.chisquare(obs.ravel(), f_exp=ex.ravel(),\n",
      "                                     ddof=obs.size - 1 - dof)\n",
      "    \n",
      "    The `lambda_` argument was added in version 0.13.0 of scipy.\n",
      "    \n",
      "    References\n",
      "    ----------\n",
      "    .. [1] \"Contingency table\", http://en.wikipedia.org/wiki/Contingency_table\n",
      "    .. [2] \"Pearson's chi-squared test\",\n",
      "           http://en.wikipedia.org/wiki/Pearson%27s_chi-squared_test\n",
      "    .. [3] Cressie, N. and Read, T. R. C., \"Multinomial Goodness-of-Fit\n",
      "           Tests\", J. Royal Stat. Soc. Series B, Vol. 46, No. 3 (1984),\n",
      "           pp. 440-464.\n",
      "    \n",
      "    Examples\n",
      "    --------\n",
      "    A two-way example (2 x 3):\n",
      "    \n",
      "    >>> from scipy.stats import chi2_contingency\n",
      "    >>> obs = np.array([[10, 10, 20], [20, 20, 20]])\n",
      "    >>> chi2_contingency(obs)\n",
      "    (2.7777777777777777,\n",
      "     0.24935220877729619,\n",
      "     2,\n",
      "     array([[ 12.,  12.,  16.],\n",
      "            [ 18.,  18.,  24.]]))\n",
      "    \n",
      "    Perform the test using the log-likelihood ratio (i.e. the \"G-test\")\n",
      "    instead of Pearson's chi-squared statistic.\n",
      "    \n",
      "    >>> g, p, dof, expctd = chi2_contingency(obs, lambda_=\"log-likelihood\")\n",
      "    >>> g, p\n",
      "    (2.7688587616781319, 0.25046668010954165)\n",
      "    \n",
      "    A four-way example (2 x 2 x 2 x 2):\n",
      "    \n",
      "    >>> obs = np.array(\n",
      "    ...     [[[[12, 17],\n",
      "    ...        [11, 16]],\n",
      "    ...       [[11, 12],\n",
      "    ...        [15, 16]]],\n",
      "    ...      [[[23, 15],\n",
      "    ...        [30, 22]],\n",
      "    ...       [[14, 17],\n",
      "    ...        [15, 16]]]])\n",
      "    >>> chi2_contingency(obs)\n",
      "    (8.7584514426741897,\n",
      "     0.64417725029295503,\n",
      "     11,\n",
      "     array([[[[ 14.15462386,  14.15462386],\n",
      "              [ 16.49423111,  16.49423111]],\n",
      "             [[ 11.2461395 ,  11.2461395 ],\n",
      "              [ 13.10500554,  13.10500554]]],\n",
      "            [[[ 19.5591166 ,  19.5591166 ],\n",
      "              [ 22.79202844,  22.79202844]],\n",
      "             [[ 15.54012004,  15.54012004],\n",
      "              [ 18.10873492,  18.10873492]]]]))\n",
      "\n"
     ]
    }
   ],
   "source": [
    "help(st.chi2_contingency)"
   ]
  },
  {
   "cell_type": "code",
   "execution_count": 43,
   "metadata": {},
   "outputs": [],
   "source": [
    "\n",
    "reg_test = pd.read_csv(\"/Users/pkumar5/Desktop/prasanna_kumar/simpli-learning/dataset/Lesson 10 Regression Analysis Ex 1.csv\")"
   ]
  },
  {
   "cell_type": "code",
   "execution_count": 44,
   "metadata": {},
   "outputs": [
    {
     "data": {
      "text/html": [
       "<div>\n",
       "<style scoped>\n",
       "    .dataframe tbody tr th:only-of-type {\n",
       "        vertical-align: middle;\n",
       "    }\n",
       "\n",
       "    .dataframe tbody tr th {\n",
       "        vertical-align: top;\n",
       "    }\n",
       "\n",
       "    .dataframe thead th {\n",
       "        text-align: right;\n",
       "    }\n",
       "</style>\n",
       "<table border=\"1\" class=\"dataframe\">\n",
       "  <thead>\n",
       "    <tr style=\"text-align: right;\">\n",
       "      <th></th>\n",
       "      <th>Price</th>\n",
       "      <th>LivingArea</th>\n",
       "      <th>Bathrooms</th>\n",
       "      <th>Bedrooms</th>\n",
       "      <th>LotSize</th>\n",
       "      <th>Age</th>\n",
       "      <th>Fireplace</th>\n",
       "    </tr>\n",
       "  </thead>\n",
       "  <tbody>\n",
       "    <tr>\n",
       "      <th>0</th>\n",
       "      <td>16858</td>\n",
       "      <td>1629</td>\n",
       "      <td>1.0</td>\n",
       "      <td>3</td>\n",
       "      <td>0.76</td>\n",
       "      <td>180</td>\n",
       "      <td>0</td>\n",
       "    </tr>\n",
       "    <tr>\n",
       "      <th>1</th>\n",
       "      <td>26049</td>\n",
       "      <td>1344</td>\n",
       "      <td>2.0</td>\n",
       "      <td>3</td>\n",
       "      <td>0.92</td>\n",
       "      <td>13</td>\n",
       "      <td>0</td>\n",
       "    </tr>\n",
       "    <tr>\n",
       "      <th>2</th>\n",
       "      <td>26130</td>\n",
       "      <td>822</td>\n",
       "      <td>1.0</td>\n",
       "      <td>2</td>\n",
       "      <td>0.56</td>\n",
       "      <td>173</td>\n",
       "      <td>0</td>\n",
       "    </tr>\n",
       "    <tr>\n",
       "      <th>3</th>\n",
       "      <td>31113</td>\n",
       "      <td>1540</td>\n",
       "      <td>1.0</td>\n",
       "      <td>2</td>\n",
       "      <td>0.04</td>\n",
       "      <td>115</td>\n",
       "      <td>0</td>\n",
       "    </tr>\n",
       "    <tr>\n",
       "      <th>4</th>\n",
       "      <td>40932</td>\n",
       "      <td>1320</td>\n",
       "      <td>1.0</td>\n",
       "      <td>3</td>\n",
       "      <td>0.17</td>\n",
       "      <td>90</td>\n",
       "      <td>0</td>\n",
       "    </tr>\n",
       "  </tbody>\n",
       "</table>\n",
       "</div>"
      ],
      "text/plain": [
       "   Price  LivingArea  Bathrooms  Bedrooms  LotSize  Age  Fireplace\n",
       "0  16858        1629        1.0         3     0.76  180          0\n",
       "1  26049        1344        2.0         3     0.92   13          0\n",
       "2  26130         822        1.0         2     0.56  173          0\n",
       "3  31113        1540        1.0         2     0.04  115          0\n",
       "4  40932        1320        1.0         3     0.17   90          0"
      ]
     },
     "execution_count": 44,
     "metadata": {},
     "output_type": "execute_result"
    }
   ],
   "source": [
    "reg_test.head()"
   ]
  },
  {
   "cell_type": "code",
   "execution_count": 46,
   "metadata": {},
   "outputs": [
    {
     "data": {
      "text/plain": [
       "<matplotlib.axes._subplots.AxesSubplot at 0x10d3589b0>"
      ]
     },
     "execution_count": 46,
     "metadata": {},
     "output_type": "execute_result"
    },
    {
     "data": {
      "image/png": "[encoded data removed]",
      "text/plain": [
       "<Figure size 360x360 with 1 Axes>"
      ]
     },
     "metadata": {},
     "output_type": "display_data"
    }
   ],
   "source": [
    "reg_test.plot(kind=\"scatter\",x=\"LivingArea\",y=\"Price\",figsize=(5,5),color=\"red\")"
   ]
  },
  {
   "cell_type": "code",
   "execution_count": 48,
   "metadata": {},
   "outputs": [
    {
     "data": {
      "text/plain": [
       "<matplotlib.axes._subplots.AxesSubplot at 0x1c170b4828>"
      ]
     },
     "execution_count": 48,
     "metadata": {},
     "output_type": "execute_result"
    },
    {
     "data": {
      "image/png": "[encoded data removed]",
      "text/plain": [
       "<Figure size 360x360 with 1 Axes>"
      ]
     },
     "metadata": {},
     "output_type": "display_data"
    }
   ],
   "source": [
    "reg_test.plot(kind=\"scatter\",x=\"LivingArea\",y=\"Age\",figsize=(5,5),color=\"green\")"
   ]
  },
  {
   "cell_type": "code",
   "execution_count": 53,
   "metadata": {},
   "outputs": [],
   "source": [
    "corr_reg = reg_test.corr()"
   ]
  },
  {
   "cell_type": "code",
   "execution_count": 51,
   "metadata": {},
   "outputs": [
    {
     "data": {
      "text/plain": [
       "array([[<matplotlib.axes._subplots.AxesSubplot object at 0x1c17b2c860>,\n",
       "        <matplotlib.axes._subplots.AxesSubplot object at 0x1c17defe80>,\n",
       "        <matplotlib.axes._subplots.AxesSubplot object at 0x1c1813ab70>,\n",
       "        <matplotlib.axes._subplots.AxesSubplot object at 0x1c1815ae80>,\n",
       "        <matplotlib.axes._subplots.AxesSubplot object at 0x1c18185470>,\n",
       "        <matplotlib.axes._subplots.AxesSubplot object at 0x1c181854a8>,\n",
       "        <matplotlib.axes._subplots.AxesSubplot object at 0x1c181dc1d0>],\n",
       "       [<matplotlib.axes._subplots.AxesSubplot object at 0x1c18201860>,\n",
       "        <matplotlib.axes._subplots.AxesSubplot object at 0x1c18229ef0>,\n",
       "        <matplotlib.axes._subplots.AxesSubplot object at 0x1c1825c5c0>,\n",
       "        <matplotlib.axes._subplots.AxesSubplot object at 0x1c18285c50>,\n",
       "        <matplotlib.axes._subplots.AxesSubplot object at 0x1c182b5320>,\n",
       "        <matplotlib.axes._subplots.AxesSubplot object at 0x1c182dc9b0>,\n",
       "        <matplotlib.axes._subplots.AxesSubplot object at 0x1c1830e080>],\n",
       "       [<matplotlib.axes._subplots.AxesSubplot object at 0x1c18335710>,\n",
       "        <matplotlib.axes._subplots.AxesSubplot object at 0x1c1835bda0>,\n",
       "        <matplotlib.axes._subplots.AxesSubplot object at 0x1c1838f470>,\n",
       "        <matplotlib.axes._subplots.AxesSubplot object at 0x1c183b5b00>,\n",
       "        <matplotlib.axes._subplots.AxesSubplot object at 0x1c183e61d0>,\n",
       "        <matplotlib.axes._subplots.AxesSubplot object at 0x1c1840c860>,\n",
       "        <matplotlib.axes._subplots.AxesSubplot object at 0x1c18437ef0>],\n",
       "       [<matplotlib.axes._subplots.AxesSubplot object at 0x1c184665c0>,\n",
       "        <matplotlib.axes._subplots.AxesSubplot object at 0x1c1848ec50>,\n",
       "        <matplotlib.axes._subplots.AxesSubplot object at 0x1c184bf320>,\n",
       "        <matplotlib.axes._subplots.AxesSubplot object at 0x1c184e69b0>,\n",
       "        <matplotlib.axes._subplots.AxesSubplot object at 0x1c18518080>,\n",
       "        <matplotlib.axes._subplots.AxesSubplot object at 0x1c18540710>,\n",
       "        <matplotlib.axes._subplots.AxesSubplot object at 0x1c18565da0>],\n",
       "       [<matplotlib.axes._subplots.AxesSubplot object at 0x1c18599470>,\n",
       "        <matplotlib.axes._subplots.AxesSubplot object at 0x1c185b7048>,\n",
       "        <matplotlib.axes._subplots.AxesSubplot object at 0x1c185de6d8>,\n",
       "        <matplotlib.axes._subplots.AxesSubplot object at 0x1c18605d68>,\n",
       "        <matplotlib.axes._subplots.AxesSubplot object at 0x1c18637438>,\n",
       "        <matplotlib.axes._subplots.AxesSubplot object at 0x1c1865fac8>,\n",
       "        <matplotlib.axes._subplots.AxesSubplot object at 0x1c18692198>],\n",
       "       [<matplotlib.axes._subplots.AxesSubplot object at 0x1c186ba828>,\n",
       "        <matplotlib.axes._subplots.AxesSubplot object at 0x1c186e1eb8>,\n",
       "        <matplotlib.axes._subplots.AxesSubplot object at 0x1c18713588>,\n",
       "        <matplotlib.axes._subplots.AxesSubplot object at 0x1c1873ec18>,\n",
       "        <matplotlib.axes._subplots.AxesSubplot object at 0x1c1876d2e8>,\n",
       "        <matplotlib.axes._subplots.AxesSubplot object at 0x1c18796978>,\n",
       "        <matplotlib.axes._subplots.AxesSubplot object at 0x1c187c9048>],\n",
       "       [<matplotlib.axes._subplots.AxesSubplot object at 0x1c187ef6d8>,\n",
       "        <matplotlib.axes._subplots.AxesSubplot object at 0x1c18819d68>,\n",
       "        <matplotlib.axes._subplots.AxesSubplot object at 0x1c1884b438>,\n",
       "        <matplotlib.axes._subplots.AxesSubplot object at 0x1c18870ac8>,\n",
       "        <matplotlib.axes._subplots.AxesSubplot object at 0x1c188a4198>,\n",
       "        <matplotlib.axes._subplots.AxesSubplot object at 0x1c188cc828>,\n",
       "        <matplotlib.axes._subplots.AxesSubplot object at 0x1c188f5eb8>]],\n",
       "      dtype=object)"
      ]
     },
     "execution_count": 51,
     "metadata": {},
     "output_type": "execute_result"
    },
    {
     "data": {
      "image/png": "[encoded data removed]",
      "text/plain": [
       "<Figure size 720x720 with 49 Axes>"
      ]
     },
     "metadata": {},
     "output_type": "display_data"
    }
   ],
   "source": [
    "import pandas.plotting as plt2\n",
    "\n",
    "plt2.scatter_matrix(reg_test,figsize=(10,10),color=\"green\",diagonal=\"hist\")"
   ]
  },
  {
   "cell_type": "code",
   "execution_count": 52,
   "metadata": {},
   "outputs": [
    {
     "name": "stderr",
     "output_type": "stream",
     "text": [
      "/Users/pkumar5/anaconda3/lib/python3.6/importlib/_bootstrap.py:219: RuntimeWarning: numpy.dtype size changed, may indicate binary incompatibility. Expected 96, got 88\n",
      "  return f(*args, **kwds)\n"
     ]
    }
   ],
   "source": [
    "import seaborn as sns"
   ]
  },
  {
   "cell_type": "code",
   "execution_count": 58,
   "metadata": {},
   "outputs": [
    {
     "data": {
      "text/plain": [
       "<matplotlib.axes._subplots.AxesSubplot at 0x104561898>"
      ]
     },
     "execution_count": 58,
     "metadata": {},
     "output_type": "execute_result"
    },
    {
     "data": {
      "image/png": "[encoded data removed]",
      "text/plain": [
       "<Figure size 432x288 with 2 Axes>"
      ]
     },
     "metadata": {},
     "output_type": "display_data"
    }
   ],
   "source": [
    "sns.heatmap(corr_reg,annot=True,cmap=\"winter\")"
   ]
  },
  {
   "cell_type": "code",
   "execution_count": null,
   "metadata": {},
   "outputs": [],
   "source": []
  }
 ],
 "metadata": {
  "kernelspec": {
   "display_name": "Python 3",
   "language": "python",
   "name": "python3"
  },
  "language_info": {
   "codemirror_mode": {
    "name": "ipython",
    "version": 3
   },
   "file_extension": ".py",
   "mimetype": "text/x-python",
   "name": "python",
   "nbconvert_exporter": "python",
   "pygments_lexer": "ipython3",
   "version": "3.6.5"
  }
 },
 "nbformat": 4,
 "nbformat_minor": 2
}
